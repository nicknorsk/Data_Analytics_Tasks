{
  "nbformat": 4,
  "nbformat_minor": 0,
  "metadata": {
    "colab": {
      "provenance": []
    },
    "kernelspec": {
      "name": "python3",
      "display_name": "Python 3"
    },
    "language_info": {
      "name": "python"
    }
  },
  "cells": [
    {
      "cell_type": "markdown",
      "metadata": {
        "id": "6bbb4b6a"
      },
      "source": [
        "# Домашнє завдання до теми \"Введення у Pandas та NumPy\""
      ]
    },
    {
      "cell_type": "markdown",
      "metadata": {
        "id": "7ef4e602"
      },
      "source": [
        "У домашніх завданнях цього модулю ми працюємо з набором даних про продажі в різних магазинах мережі супермаркетів.\n",
        "\n",
        "## Контекст даних\n",
        "Зростання супермаркетів у найбільш населених містах збільшується, а конкуренція на ринку також висока. Набір даних є вигрузкою історичних продажів компанії-мережі супермаркетів у 3х різних філіях протягом 3 місяців.\n",
        "\n",
        "**Ціль:** Цей набір даних може бути використаний для цілей розуміння тенденцій продажів, які товари в якому місті варто продавати, а поставку яких - варто скоротити. На основі цих даних можна оцінити майбутні тенденції продажів, оцінити поведінку споживачів та оптимізувати стратегію продажів.\n",
        "\n",
        "Ми будемо робити елементи аналізу в цьому напрямі.\n",
        "\n",
        "## Опис даних\n",
        "\n",
        "| Назва оригінальна           | Переклад назви             | Опис українською                                                                                       |\n",
        "|---------------------------|--------------------------|-----------------------------------------------------------------------------------------------------|\n",
        "| Invoice id                | Ідентифікатор чека       | Комп’ютерно генерований номер ідентифікації чека продажу                                             |\n",
        "| Branch                    | Філія                    | Філія супермаркету (доступні 3 філії, ідентифіковані як A, B та C)                                     |\n",
        "| City                      | Місто                    | Місцезнаходження суперцентрів                                                                        |\n",
        "| Customer type             | Тип клієнта              | Тип клієнтів, зафіксований як Члени для клієнтів, що використовують картку члена, та Звичайні без картки |\n",
        "| Gender                    | Стать                    | Стать покупця                                                                                       |\n",
        "| Product line              | Лінійка продуктів        | Загальні групи категоризації товарів - Електронні аксесуари, Модні аксесуари, Їжа та напої, Здоров’я та краса, Дім і стиль життя, Спорт та подорожі |\n",
        "| Unit price                | Ціна за одиницю          | Ціна кожного продукту в доларах США                                                                  |\n",
        "| Quantity                  | Кількість                | Кількість продуктів, придбаних клієнтом                                                             |\n",
        "| Tax                       | Податок                  | 5% податковий збір для покупця                                                                       |\n",
        "| Total                     | Загальна сума            | Загальна ціна з урахуванням податку                                                                  |\n",
        "| Date                      | Дата                     | Дата покупки (Дані доступні з січня 2019 по березень 2019)                                           |\n",
        "| Time                      | Час                      | Час покупки (з 10:00 до 21:00)                                                                       |\n",
        "| Payment                   | Оплата                   | Метод оплати, використаний клієнтом для покупки (доступні 3 методи – Готівка, Кредитна картка та Електронний гаманець) |\n",
        "| COGS                      | Собівартість проданих товарів | Собівартість проданих товарів                                                                      |\n",
        "| Gross margin percentage   | Відсоток валового прибутку | Відсоток валового прибутку                                                                         |\n",
        "| Gross income              | Валовий дохід            | Валовий дохід                                                                                       |\n",
        "| Rating                    | Рейтинг                  | Рейтинг задоволення клієнтів від загального досвіду покупок (На шкалі від 1 до 10)                    |\n",
        "\n",
        "\n",
        "## Робота з даними в рамках завдань цього модулю\n",
        "\n",
        "Завантажте дані з навчальної платформи собі локально. Як найркаще організувати збереження даних і ноутбуків було наведено в лекції. Якщо Ви працюєте в Colab - то рекомендую або розмістити дані у себе на диску і підключити диск (`Files` -> `Mount Drive`) або перетягнути дані в `Files` на робочу сесію і читати звідти.\n",
        "\n",
        "Дані ми НЕ заливаємо зазвичай в git, особливо якщо вони більше 10мб - це погана практика. Ліпше залити на гугл диск і дати посилання в репозиторії в readme.md файлі, якщо дані великі. Саме так рекомендую робити для проєктів з портфоліо.\n",
        "\n",
        "У домашніх завданнях цього модуля особливо важливо **уважно** читати формулювання завдання і всі коментарі. Також у цьому модулі треба по максимуму використовувати функціонал бібліотеки pandas, навіть якщо існують альтернативні способи зробити те саме. Нагадую, що працюючи з pandas ми здебільшого НЕ потребуємо використовувати цикли для створення колонки - для цього є інші, більш загальноприйняті методи, розглянуті в лекції.\n"
      ]
    },
    {
      "cell_type": "markdown",
      "source": [
        "1. Імпортуйте бібліотеку pandas в загальноприйнятому форматі."
      ],
      "metadata": {
        "id": "39qzN0NZAPFm"
      }
    },
    {
      "cell_type": "code",
      "source": [
        "import pandas as pd"
      ],
      "metadata": {
        "id": "jA1fRzz4AOsE"
      },
      "execution_count": 1,
      "outputs": []
    },
    {
      "cell_type": "code",
      "source": [
        "from google.colab import drive\n",
        "drive.mount('/content/drive')"
      ],
      "metadata": {
        "colab": {
          "base_uri": "https://localhost:8080/"
        },
        "id": "5wlhYBovec6n",
        "outputId": "419e4396-04a4-425d-be24-ea6fe933520b"
      },
      "execution_count": 2,
      "outputs": [
        {
          "output_type": "stream",
          "name": "stdout",
          "text": [
            "Mounted at /content/drive\n"
          ]
        }
      ]
    },
    {
      "cell_type": "markdown",
      "metadata": {
        "ExecuteTime": {
          "end_time": "2021-09-20T19:43:50.443031Z",
          "start_time": "2021-09-20T19:43:50.439600Z"
        },
        "id": "fd7f076b"
      },
      "source": [
        "2. За допомогою бібліотеки Pandas, викликом однієї функції зчитайте набір даних із файлу `supermarket_sales.csv` в змінну `df` типу `pandas.DataFrame`.\n",
        "Виведіть тип даних змінної `df`."
      ]
    },
    {
      "cell_type": "code",
      "source": [
        "data_path = '/content/drive/MyDrive/Colab_Notebooks/Data_Analyst_Course_HP/Module_3/Data_M3/supermarket_sales.csv'\n",
        "df = pd.read_csv(data_path)"
      ],
      "metadata": {
        "id": "0kbbVMM1ATsk"
      },
      "execution_count": 3,
      "outputs": []
    },
    {
      "cell_type": "markdown",
      "metadata": {
        "ExecuteTime": {
          "end_time": "2022-11-01T16:51:38.594974Z",
          "start_time": "2022-11-01T16:51:38.591423Z"
        },
        "id": "33661c15"
      },
      "source": [
        "3. Виведіть кількість рядків і кількість колонок в наборі даних. Відповідь сформуйте використовуючи fstring у наступному форматі: `Набір даних містить 1000 рядків та 17 колонок`"
      ]
    },
    {
      "cell_type": "code",
      "execution_count": 4,
      "metadata": {
        "ExecuteTime": {
          "end_time": "2022-11-01T16:54:59.887783Z",
          "start_time": "2022-11-01T16:54:59.884323Z"
        },
        "id": "bac0cbfc",
        "colab": {
          "base_uri": "https://localhost:8080/"
        },
        "outputId": "2e29a2a5-dd2e-420f-aabd-9c3f6c479acf"
      },
      "outputs": [
        {
          "output_type": "stream",
          "name": "stdout",
          "text": [
            "The dataset contains 1000 rows and 17 columns\n"
          ]
        }
      ],
      "source": [
        "df_shape = df.shape\n",
        "print(f'The dataset contains {df.shape[0]} rows and {df.shape[1]} columns')"
      ]
    },
    {
      "cell_type": "markdown",
      "source": [
        "4. Скільки оперативної памʼяті у мегабайтах займає даний набір даних? Обчисліть за допомогою pandas і виведіть на екран."
      ],
      "metadata": {
        "id": "4i5dUphZ_JxM"
      }
    },
    {
      "cell_type": "code",
      "source": [
        "df.memory_usage()"
      ],
      "metadata": {
        "colab": {
          "base_uri": "https://localhost:8080/",
          "height": 649
        },
        "id": "cQZijTfQh7Z2",
        "outputId": "f712d7c5-9fc4-490a-e115-eacafb633a5b"
      },
      "execution_count": 5,
      "outputs": [
        {
          "output_type": "execute_result",
          "data": {
            "text/plain": [
              "Index                       128\n",
              "Invoice ID                 8000\n",
              "Branch                     8000\n",
              "City                       8000\n",
              "Customer type              8000\n",
              "Gender                     8000\n",
              "Product line               8000\n",
              "Unit price                 8000\n",
              "Quantity                   8000\n",
              "Tax 5%                     8000\n",
              "Total                      8000\n",
              "Date                       8000\n",
              "Time                       8000\n",
              "Payment                    8000\n",
              "cogs                       8000\n",
              "gross margin percentage    8000\n",
              "gross income               8000\n",
              "Rating                     8000\n",
              "dtype: int64"
            ],
            "text/html": [
              "<div>\n",
              "<style scoped>\n",
              "    .dataframe tbody tr th:only-of-type {\n",
              "        vertical-align: middle;\n",
              "    }\n",
              "\n",
              "    .dataframe tbody tr th {\n",
              "        vertical-align: top;\n",
              "    }\n",
              "\n",
              "    .dataframe thead th {\n",
              "        text-align: right;\n",
              "    }\n",
              "</style>\n",
              "<table border=\"1\" class=\"dataframe\">\n",
              "  <thead>\n",
              "    <tr style=\"text-align: right;\">\n",
              "      <th></th>\n",
              "      <th>0</th>\n",
              "    </tr>\n",
              "  </thead>\n",
              "  <tbody>\n",
              "    <tr>\n",
              "      <th>Index</th>\n",
              "      <td>128</td>\n",
              "    </tr>\n",
              "    <tr>\n",
              "      <th>Invoice ID</th>\n",
              "      <td>8000</td>\n",
              "    </tr>\n",
              "    <tr>\n",
              "      <th>Branch</th>\n",
              "      <td>8000</td>\n",
              "    </tr>\n",
              "    <tr>\n",
              "      <th>City</th>\n",
              "      <td>8000</td>\n",
              "    </tr>\n",
              "    <tr>\n",
              "      <th>Customer type</th>\n",
              "      <td>8000</td>\n",
              "    </tr>\n",
              "    <tr>\n",
              "      <th>Gender</th>\n",
              "      <td>8000</td>\n",
              "    </tr>\n",
              "    <tr>\n",
              "      <th>Product line</th>\n",
              "      <td>8000</td>\n",
              "    </tr>\n",
              "    <tr>\n",
              "      <th>Unit price</th>\n",
              "      <td>8000</td>\n",
              "    </tr>\n",
              "    <tr>\n",
              "      <th>Quantity</th>\n",
              "      <td>8000</td>\n",
              "    </tr>\n",
              "    <tr>\n",
              "      <th>Tax 5%</th>\n",
              "      <td>8000</td>\n",
              "    </tr>\n",
              "    <tr>\n",
              "      <th>Total</th>\n",
              "      <td>8000</td>\n",
              "    </tr>\n",
              "    <tr>\n",
              "      <th>Date</th>\n",
              "      <td>8000</td>\n",
              "    </tr>\n",
              "    <tr>\n",
              "      <th>Time</th>\n",
              "      <td>8000</td>\n",
              "    </tr>\n",
              "    <tr>\n",
              "      <th>Payment</th>\n",
              "      <td>8000</td>\n",
              "    </tr>\n",
              "    <tr>\n",
              "      <th>cogs</th>\n",
              "      <td>8000</td>\n",
              "    </tr>\n",
              "    <tr>\n",
              "      <th>gross margin percentage</th>\n",
              "      <td>8000</td>\n",
              "    </tr>\n",
              "    <tr>\n",
              "      <th>gross income</th>\n",
              "      <td>8000</td>\n",
              "    </tr>\n",
              "    <tr>\n",
              "      <th>Rating</th>\n",
              "      <td>8000</td>\n",
              "    </tr>\n",
              "  </tbody>\n",
              "</table>\n",
              "</div><br><label><b>dtype:</b> int64</label>"
            ]
          },
          "metadata": {},
          "execution_count": 5
        }
      ]
    },
    {
      "cell_type": "code",
      "source": [
        "df.memory_usage().sum()"
      ],
      "metadata": {
        "id": "kwoNKAr-_JDf",
        "colab": {
          "base_uri": "https://localhost:8080/"
        },
        "outputId": "43646158-45ef-4c3f-9c31-08803caf8be0"
      },
      "execution_count": 6,
      "outputs": [
        {
          "output_type": "execute_result",
          "data": {
            "text/plain": [
              "136128"
            ]
          },
          "metadata": {},
          "execution_count": 6
        }
      ]
    },
    {
      "cell_type": "code",
      "source": [
        "bytes_in_total = df.memory_usage().sum()\n",
        "megabytes_in_total = bytes_in_total / (1024 * 1024)\n",
        "print('The dataset takes up {} Mb in memory'.format(megabytes_in_total))"
      ],
      "metadata": {
        "colab": {
          "base_uri": "https://localhost:8080/"
        },
        "id": "UyBNknTXiCjI",
        "outputId": "bce3ff3b-065e-4689-ca3e-3ae3404e89d9"
      },
      "execution_count": 7,
      "outputs": [
        {
          "output_type": "stream",
          "name": "stdout",
          "text": [
            "The dataset takes up 0.12982177734375 Mb in memory\n"
          ]
        }
      ]
    },
    {
      "cell_type": "markdown",
      "source": [
        "**Перше домашнє завдання із Pandas виконано! 🚀✔️**"
      ],
      "metadata": {
        "id": "ksL_sc3RwPIe"
      }
    }
  ]
}