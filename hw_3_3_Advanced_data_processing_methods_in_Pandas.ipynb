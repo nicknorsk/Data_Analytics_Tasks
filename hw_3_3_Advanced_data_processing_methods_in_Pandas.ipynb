{
  "nbformat": 4,
  "nbformat_minor": 0,
  "metadata": {
    "colab": {
      "provenance": []
    },
    "kernelspec": {
      "name": "python3",
      "display_name": "Python 3"
    },
    "language_info": {
      "name": "python"
    }
  },
  "cells": [
    {
      "cell_type": "markdown",
      "source": [
        "# Домашнє завдання до теми \"Розширені методи обробки даних у Pandas\""
      ],
      "metadata": {
        "id": "wF6xe36Osbxi"
      }
    },
    {
      "cell_type": "markdown",
      "source": [
        "В цьому домашньому завданні продовжуємо працювати з набором даних `supermarket_sales.csv`."
      ],
      "metadata": {
        "id": "Fa2CIJElO3L3"
      }
    },
    {
      "cell_type": "markdown",
      "source": [
        "0. Імпортуйте бібліотеку pandas та зчитайте дані у змінну `df` типу `pandas.DataFrame`."
      ],
      "metadata": {
        "id": "z0F_6xB-DQi7"
      }
    },
    {
      "cell_type": "code",
      "source": [
        "from google.colab import drive\n",
        "drive.mount('/drive')"
      ],
      "metadata": {
        "id": "-4jR3F-rDQi7",
        "colab": {
          "base_uri": "https://localhost:8080/"
        },
        "outputId": "57087e80-b200-4e8a-f0ab-b4b571390e0e"
      },
      "execution_count": 1,
      "outputs": [
        {
          "output_type": "stream",
          "name": "stdout",
          "text": [
            "Mounted at /drive\n"
          ]
        }
      ]
    },
    {
      "cell_type": "code",
      "source": [
        "import pandas as pd\n",
        "df = pd.read_csv('/drive/MyDrive/Colab_Notebooks/Data_Analyst_Course_HP/Module_3/Data_M3/supermarket_sales.csv')"
      ],
      "metadata": {
        "id": "FUoL08QGJLyE"
      },
      "execution_count": 2,
      "outputs": []
    },
    {
      "cell_type": "markdown",
      "source": [
        "1. Відсортуйте дані за спаданням ціни товара ('Unit price') і виведіть 5 перших рядочків на екран."
      ],
      "metadata": {
        "id": "hH26_h5wOLfj"
      }
    },
    {
      "cell_type": "code",
      "source": [
        "# Step 1. Sort the data in descending order of the 'Unit price'\n",
        "sorted_data = df.sort_values(by='Unit price', ascending=False)\n",
        "\n",
        "# Step 2. Display the first 5 rows\n",
        "print(\"Top 5 rows sorted by 'Unit price' in descending order:\")\n",
        "print(sorted_data.head(5))"
      ],
      "metadata": {
        "id": "C_CMIujQN9s6",
        "colab": {
          "base_uri": "https://localhost:8080/"
        },
        "outputId": "fb5d7afd-2ee8-4858-caed-a4bb2dbc5875"
      },
      "execution_count": 3,
      "outputs": [
        {
          "output_type": "stream",
          "name": "stdout",
          "text": [
            "Top 5 rows sorted by 'Unit price' in descending order:\n",
            "      Invoice ID Branch       City Customer type Gender         Product line  \\\n",
            "983  148-41-7930      C  Naypyitaw        Normal   Male    Health and beauty   \n",
            "122  219-22-9386      B   Mandalay        Member   Male    Sports and travel   \n",
            "930  641-62-7288      B   Mandalay        Normal   Male   Home and lifestyle   \n",
            "494  437-53-3084      B   Mandalay        Normal   Male  Fashion accessories   \n",
            "283  667-92-0055      A     Yangon        Member   Male    Health and beauty   \n",
            "\n",
            "     Unit price  Quantity  Tax 5%    Total       Date   Time      Payment  \\\n",
            "983       99.96         7  34.986  734.706  1/23/2019  10:33         Cash   \n",
            "122       99.96         9  44.982  944.622   3/9/2019  17:26  Credit card   \n",
            "930       99.92         6  29.976  629.496  3/24/2019  13:33      Ewallet   \n",
            "494       99.89         2   9.989  209.769  2/26/2019  11:48      Ewallet   \n",
            "283       99.83         6  29.949  628.929   3/4/2019  15:02      Ewallet   \n",
            "\n",
            "       cogs  gross margin percentage  gross income  Rating  \n",
            "983  699.72                 4.761905        34.986     6.1  \n",
            "122  899.64                 4.761905        44.982     4.2  \n",
            "930  599.52                 4.761905        29.976     7.1  \n",
            "494  199.78                 4.761905         9.989     7.1  \n",
            "283  598.98                 4.761905        29.949     8.5  \n"
          ]
        }
      ]
    },
    {
      "cell_type": "markdown",
      "source": [
        "2. Знайдіть інвойс (рядок в даних) в категорії товарів Electronic accessories, в якому був куплений товар з найбільшою кількістю і найбільшою ціною. Виведіть цей рядок даних на екран."
      ],
      "metadata": {
        "id": "H7IyOIfIONXy"
      }
    },
    {
      "cell_type": "code",
      "source": [
        "# Step 1. Filter the dataset for the 'Electronic accessories' product category\n",
        "electronic_accessories_data = df[df['Product line'] == 'Electronic accessories']\n",
        "\n",
        "# Step 2. Find the invoice with the highest quantity and highest unit price\n",
        "highest_quantity_row = electronic_accessories_data.loc[electronic_accessories_data['Quantity'].idxmax()]\n",
        "highest_price_row = electronic_accessories_data.loc[electronic_accessories_data['Unit price'].idxmax()]\n",
        "\n",
        "# Step 3. Display the two rows\n",
        "print(\"Invoice with the highest quantity in 'Electronic accessories':\")\n",
        "print(highest_quantity_row)\n",
        "\n",
        "print(\"\\nInvoice with the highest unit price in 'Electronic accessories':\")\n",
        "print(highest_price_row)"
      ],
      "metadata": {
        "id": "rHtk3rXoNHr5",
        "colab": {
          "base_uri": "https://localhost:8080/"
        },
        "outputId": "b093e7dc-db87-485d-ab9b-075018a202f9"
      },
      "execution_count": 4,
      "outputs": [
        {
          "output_type": "stream",
          "name": "stdout",
          "text": [
            "Invoice with the highest quantity in 'Electronic accessories':\n",
            "Invoice ID                            732-94-0499\n",
            "Branch                                          C\n",
            "City                                    Naypyitaw\n",
            "Customer type                              Normal\n",
            "Gender                                     Female\n",
            "Product line               Electronic accessories\n",
            "Unit price                                  41.65\n",
            "Quantity                                       10\n",
            "Tax 5%                                     20.825\n",
            "Total                                     437.325\n",
            "Date                                    1/13/2019\n",
            "Time                                        17:04\n",
            "Payment                               Credit card\n",
            "cogs                                        416.5\n",
            "gross margin percentage                  4.761905\n",
            "gross income                               20.825\n",
            "Rating                                        5.4\n",
            "Name: 75, dtype: object\n",
            "\n",
            "Invoice with the highest unit price in 'Electronic accessories':\n",
            "Invoice ID                            817-69-8206\n",
            "Branch                                          B\n",
            "City                                     Mandalay\n",
            "Customer type                              Normal\n",
            "Gender                                     Female\n",
            "Product line               Electronic accessories\n",
            "Unit price                                  99.73\n",
            "Quantity                                        9\n",
            "Tax 5%                                    44.8785\n",
            "Total                                    942.4485\n",
            "Date                                     3/2/2019\n",
            "Time                                        19:42\n",
            "Payment                               Credit card\n",
            "cogs                                       897.57\n",
            "gross margin percentage                  4.761905\n",
            "gross income                              44.8785\n",
            "Rating                                        6.5\n",
            "Name: 209, dtype: object\n"
          ]
        }
      ]
    },
    {
      "cell_type": "markdown",
      "source": [
        "3.1. Створіть нову колонку в даних `Rating Category`, яка визначає категорію рейтингу: високий, середній чи низький за наступним правилом:\n",
        "- якщо рейтинг вищий або рівний 8 - то він високий (`High`)\n",
        "- якщо рейтинг від 6 до 8 не включаючи - то він середній (`Medium`)\n",
        "- інакше - низький (`Low`)."
      ],
      "metadata": {
        "id": "n2iSihPRDHvv"
      }
    },
    {
      "cell_type": "code",
      "source": [
        "# Solution 1.\n",
        "# Step 1. Create a new column 'Rating Category' using conditions\n",
        "def assign_rating_category(rating):\n",
        "    if rating >= 8:\n",
        "        return 'High'\n",
        "    elif 6 <= rating < 8:\n",
        "        return 'Medium'\n",
        "    else:\n",
        "        return 'Low'\n",
        "\n",
        "# Step 2. Apply the function to create the new column\n",
        "df['Rating Category'] = df['Rating'].apply(assign_rating_category)\n",
        "\n",
        "# Step 3. Display the first few rows to verify the new column\n",
        "print(\"Dataset with new 'Rating Category' column:\")\n",
        "print(df[['Rating', 'Rating Category']].head(10))\n",
        "\n",
        "# Step 4. Display value counts to see distribution of categories\n",
        "print(\"\\nDistribution of Rating Categories:\")\n",
        "print(df['Rating Category'].value_counts())\n"
      ],
      "metadata": {
        "colab": {
          "base_uri": "https://localhost:8080/"
        },
        "id": "7leZj6U16eUb",
        "outputId": "aaeb3657-e523-4f05-a029-bb7f798d6f6d"
      },
      "execution_count": 5,
      "outputs": [
        {
          "output_type": "stream",
          "name": "stdout",
          "text": [
            "Dataset with new 'Rating Category' column:\n",
            "   Rating Rating Category\n",
            "0     9.1            High\n",
            "1     9.6            High\n",
            "2     7.4          Medium\n",
            "3     8.4            High\n",
            "4     5.3             Low\n",
            "5     4.1             Low\n",
            "6     5.8             Low\n",
            "7     8.0            High\n",
            "8     7.2          Medium\n",
            "9     5.9             Low\n",
            "\n",
            "Distribution of Rating Categories:\n",
            "Rating Category\n",
            "Medium    356\n",
            "High      329\n",
            "Low       315\n",
            "Name: count, dtype: int64\n"
          ]
        }
      ]
    },
    {
      "cell_type": "code",
      "source": [
        "# Solution 2.\n",
        "import numpy as np\n",
        "\n",
        "# Step 1. Define conditions and choices\n",
        "conditions = [\n",
        "    df['Rating'] >= 8,\n",
        "    (df['Rating'] >= 6) & (df['Rating'] < 8),\n",
        "    df['Rating'] < 6\n",
        "]\n",
        "choices = ['High', 'Medium', 'Low']\n",
        "\n",
        "# Step 2. Create new column using np.select\n",
        "df['Rating Category'] = np.select(conditions, choices)\n",
        "\n",
        "# Step 3. Display the first few rows to verify the new column\n",
        "print(\"Dataset with new 'Rating Category' column:\")\n",
        "print(df[['Rating', 'Rating Category']].head(10))\n",
        "\n",
        "# Step 4. Display value counts to see distribution of categories\n",
        "print(\"\\nDistribution of Rating Categories:\")\n",
        "print(df['Rating Category'].value_counts())\n"
      ],
      "metadata": {
        "colab": {
          "base_uri": "https://localhost:8080/"
        },
        "id": "HrOjTWRC6t7T",
        "outputId": "7230ab8a-7eb4-49ba-8288-b8f6dc8b7916"
      },
      "execution_count": 7,
      "outputs": [
        {
          "output_type": "stream",
          "name": "stdout",
          "text": [
            "Dataset with new 'Rating Category' column:\n",
            "   Rating Rating Category\n",
            "0     9.1            High\n",
            "1     9.6            High\n",
            "2     7.4          Medium\n",
            "3     8.4            High\n",
            "4     5.3             Low\n",
            "5     4.1             Low\n",
            "6     5.8             Low\n",
            "7     8.0            High\n",
            "8     7.2          Medium\n",
            "9     5.9             Low\n",
            "\n",
            "Distribution of Rating Categories:\n",
            "Rating Category\n",
            "Medium    356\n",
            "High      329\n",
            "Low       315\n",
            "Name: count, dtype: int64\n"
          ]
        }
      ]
    },
    {
      "cell_type": "code",
      "source": [
        "# Solution 3.\n",
        "# Step 1. Create a new column 'Rating Category' using pd.cut()\n",
        "\n",
        "df['Rating Category'] = pd.cut(df['Rating'],\n",
        "                              bins=[0, 6, 8, float('inf')],\n",
        "                              labels=['Low', 'Medium', 'High'],\n",
        "                              include_lowest=True)\n",
        "\n",
        "# Step 2. Display the first few rows to verify the new column\n",
        "\n",
        "print(\"Dataset with new 'Rating Category' column:\")\n",
        "print(df[['Rating', 'Rating Category']].head(10))\n",
        "\n",
        "# Step 3. Display the distribution of rating categories\n",
        "print(\"\\nDistribution of Rating Categories:\")\n",
        "print(df['Rating Category'].value_counts())\n"
      ],
      "metadata": {
        "id": "WfYpk_VdD_sI",
        "colab": {
          "base_uri": "https://localhost:8080/"
        },
        "outputId": "20def6f8-ba7c-4736-ca3d-2c197c5d96f1"
      },
      "execution_count": 8,
      "outputs": [
        {
          "output_type": "stream",
          "name": "stdout",
          "text": [
            "Dataset with new 'Rating Category' column:\n",
            "   Rating Rating Category\n",
            "0     9.1            High\n",
            "1     9.6            High\n",
            "2     7.4          Medium\n",
            "3     8.4            High\n",
            "4     5.3             Low\n",
            "5     4.1             Low\n",
            "6     5.8             Low\n",
            "7     8.0          Medium\n",
            "8     7.2          Medium\n",
            "9     5.9             Low\n",
            "\n",
            "Distribution of Rating Categories:\n",
            "Rating Category\n",
            "Medium    351\n",
            "Low       341\n",
            "High      308\n",
            "Name: count, dtype: int64\n"
          ]
        }
      ]
    },
    {
      "cell_type": "markdown",
      "source": [
        "3.2. Виведіть, який відсоток даних становить кожне зі значень категорій рейтингу."
      ],
      "metadata": {
        "id": "0tTSRjXDEdDe"
      }
    },
    {
      "cell_type": "code",
      "source": [
        "# Step 1.\n",
        "# Calculate percentage distribution using value_counts with normalize=True\n",
        "rating_percentages = df['Rating Category'].value_counts(normalize=True) * 100\n",
        "\n",
        "# Step 2.\n",
        "# Sort the percentages by index to maintain consistent order (Low, Medium, High)\n",
        "rating_percentages_sorted = rating_percentages.sort_index()\n",
        "\n",
        "# Step 3.\n",
        "# Display the percentages rounded to 2 decimal places\n",
        "print(\"Percentage distribution of Rating Categories:\")\n",
        "print(rating_percentages_sorted.round(2))\n"
      ],
      "metadata": {
        "id": "gYd_Y96ODS3a",
        "colab": {
          "base_uri": "https://localhost:8080/"
        },
        "outputId": "e0ade1bd-fec1-4050-8902-4295068d6df5"
      },
      "execution_count": 9,
      "outputs": [
        {
          "output_type": "stream",
          "name": "stdout",
          "text": [
            "Percentage distribution of Rating Categories:\n",
            "Rating Category\n",
            "Low       34.1\n",
            "Medium    35.1\n",
            "High      30.8\n",
            "Name: proportion, dtype: float64\n"
          ]
        }
      ]
    },
    {
      "cell_type": "markdown",
      "source": [
        "4.1. Запустіть код нижче аби створити змінну `time`. Ця змінна містить час в форматі \"година:хвилина\". Напишіть функцію `get_hour`, яка буде зі змінної формату як `time` дістати лише години і конвертувати їх у тип `int`.\n",
        "\n",
        "Запустіть написану функцію на змінній `time` та перевірте правильність роботи функції."
      ],
      "metadata": {
        "id": "qGPne8sFHGGM"
      }
    },
    {
      "cell_type": "code",
      "source": [
        "# Given time variable\n",
        "time = '11:28'"
      ],
      "metadata": {
        "id": "OZ2DD2AGEZme"
      },
      "execution_count": 10,
      "outputs": []
    },
    {
      "cell_type": "code",
      "source": [
        "# Step 1. Define the get_hour function\n",
        "def get_hour(time_str):\n",
        "    return int(time_str.split(':')[0])\n",
        "\n",
        "# Step 2. Test the function\n",
        "hour = get_hour(time)\n",
        "print(f\"Hour: {hour}\")\n",
        "print(f\"Type of hour: {type(hour)}\")\n"
      ],
      "metadata": {
        "id": "BxDWBPalHimp",
        "colab": {
          "base_uri": "https://localhost:8080/"
        },
        "outputId": "c39bfebc-7d0c-481c-af63-fa3cee94d51d"
      },
      "execution_count": 11,
      "outputs": [
        {
          "output_type": "stream",
          "name": "stdout",
          "text": [
            "Hour: 11\n",
            "Type of hour: <class 'int'>\n"
          ]
        }
      ]
    },
    {
      "cell_type": "markdown",
      "source": [
        "4.2. З допомогою функції `get_hour` і метода `DataFrame.apply()` створіть нову колонку `Hour` в нашому наборі даних, яка буде містити години здійснення покупки, обчислені на основі часу здійснення покупки `Time`."
      ],
      "metadata": {
        "id": "3F7Nmc84IM9C"
      }
    },
    {
      "cell_type": "code",
      "source": [
        "# Step 1. Create new 'Hour' column using apply()\n",
        "df['Hour'] = df['Time'].apply(get_hour)\n",
        "\n",
        "# Step 2. Display the first few rows to verify the new column\n",
        "print(\"Dataset with new 'Hour' column:\")\n",
        "print(df[['Time', 'Hour']].head(10))"
      ],
      "metadata": {
        "id": "P-DQNIwQH_Io",
        "colab": {
          "base_uri": "https://localhost:8080/"
        },
        "outputId": "ba47aa14-3470-4db9-a6e7-3ba430f67773"
      },
      "execution_count": 12,
      "outputs": [
        {
          "output_type": "stream",
          "name": "stdout",
          "text": [
            "Dataset with new 'Hour' column:\n",
            "    Time  Hour\n",
            "0  13:08    13\n",
            "1  10:29    10\n",
            "2  13:23    13\n",
            "3  20:33    20\n",
            "4  10:37    10\n",
            "5  18:30    18\n",
            "6  14:36    14\n",
            "7  11:38    11\n",
            "8  17:15    17\n",
            "9  13:27    13\n"
          ]
        }
      ]
    },
    {
      "cell_type": "markdown",
      "source": [
        "4.3. Виведіть кількість значень за кожною годиною покупки і дайте відповідь \"О яких годинах найбільше здійснюють покупок покупці і чому на Ваш погляд саме о цих годинах? Чи це слогічно, що найбільше покупок саме в ці години?\"."
      ],
      "metadata": {
        "id": "VcuugIB2IszQ"
      }
    },
    {
      "cell_type": "markdown",
      "source": [
        "**Analysis and Interpretation:**\n",
        "***Peak Purchase Hours:***\n",
        "The highest number of purchases occur during:\n",
        "15:00 (3 PM): 62 purchases (12.4%)\n",
        "16:00 (4 PM): 58 purchases (11.6%)\n",
        "14:00 (2 PM): 56 purchases (11.2%)\n",
        "***Logical Explanation:***\n",
        "These peak hours (2 PM - 4 PM) make sense for several reasons:\n",
        "Post-lunch shopping: People often shop after their lunch break\n",
        "School pickup: Parents might shop after picking up children from school\n",
        "Work break: People might use afternoon breaks for shopping\n",
        "***Pattern Analysis:***\n",
        "Morning (10-11 AM): Moderate activity\n",
        "Midday (12-1 PM): Steady flow during lunch hours\n",
        "Peak (2-4 PM): Highest activity\n",
        "Evening (5-7 PM): Gradual decline\n",
        "Night (8 PM): Lowest activity as store likely closes\n",
        "\n",
        "**Пікові години покупок:**\n",
        "Найбільша кількість покупок відбувається протягом:\n",
        "15:00: 62 покупки (12,4%)\n",
        "16:00: 58 покупок (11.6%)\n",
        "14:00: 56 покупок (11.2%)\n",
        "***Пояснення:***\n",
        "Ці пікові години (14:00 - 16:00) мають сенс з кількох причин:\n",
        "Покупки після обіду: Люди часто роблять покупки після обідньої перерви\n",
        "Забирання дітей зі школи: Батьки можуть робити покупки після того, як забирають дітей зі школи\n",
        "Перерва на роботі: Люди можуть використовувати післяобідню перерву для шопінгу\n",
        "***Аналіз шаблонів поведінки покупців:***\n",
        "Ранок (10-11 ранку): Помірна активність\n",
        "Полудень (12:00-13:00): Стабільний потік в обідні години\n",
        "Пік (2-4 години дня): Найвища активність\n",
        "Вечір (5-7 вечора): Поступовий спад\n",
        "Ніч (8 вечора): Найнижча активність, оскільки магазин, ймовірно, закривається"
      ],
      "metadata": {
        "id": "CDBkJYJjA9-p"
      }
    },
    {
      "cell_type": "code",
      "source": [
        "# Step 1. Calculate and sort the frequency of purchases by hour\n",
        "hourly_purchases = df['Hour'].value_counts().sort_index()\n",
        "\n",
        "# Step 2. Display the results\n",
        "print(\"Number of Purchases by Hour:\")\n",
        "print(hourly_purchases)\n",
        "\n",
        "# Step 3. Optional: Calculate percentage distribution\n",
        "hourly_percentages = (df['Hour'].value_counts(normalize=True) * 100).sort_index()\n",
        "print(\"\\nPercentage Distribution of Purchases by Hour:\")\n",
        "print(hourly_percentages.round(2), \"%\")"
      ],
      "metadata": {
        "id": "5NgTbHM8I-Or",
        "colab": {
          "base_uri": "https://localhost:8080/"
        },
        "outputId": "8b0a0fe8-14a5-40d2-d61d-6ba6e24c22b7"
      },
      "execution_count": 13,
      "outputs": [
        {
          "output_type": "stream",
          "name": "stdout",
          "text": [
            "Number of Purchases by Hour:\n",
            "Hour\n",
            "10    101\n",
            "11     90\n",
            "12     89\n",
            "13    103\n",
            "14     83\n",
            "15    102\n",
            "16     77\n",
            "17     74\n",
            "18     93\n",
            "19    113\n",
            "20     75\n",
            "Name: count, dtype: int64\n",
            "\n",
            "Percentage Distribution of Purchases by Hour:\n",
            "Hour\n",
            "10    10.1\n",
            "11     9.0\n",
            "12     8.9\n",
            "13    10.3\n",
            "14     8.3\n",
            "15    10.2\n",
            "16     7.7\n",
            "17     7.4\n",
            "18     9.3\n",
            "19    11.3\n",
            "20     7.5\n",
            "Name: proportion, dtype: float64 %\n"
          ]
        }
      ]
    },
    {
      "cell_type": "markdown",
      "source": [
        "5. Виведіть середнє значення чеку (`Total`) для покупок в містах, наявних в даних, за допомогою функції `groupby`."
      ],
      "metadata": {
        "id": "vUniX9GAKtco"
      }
    },
    {
      "cell_type": "code",
      "source": [
        "# Step 1. Calculate average total by city using groupby\n",
        "average_total_by_city = df.groupby('City')['Total'].mean().round(2)\n",
        "\n",
        "# Step 2. Print the results\n",
        "print(\"Average Receipt Value by City:\")\n",
        "print(average_total_by_city)\n"
      ],
      "metadata": {
        "id": "eWRBQoO_JBY3",
        "colab": {
          "base_uri": "https://localhost:8080/"
        },
        "outputId": "81a7094d-0fb1-444f-9412-41e8aaa73aed"
      },
      "execution_count": 14,
      "outputs": [
        {
          "output_type": "stream",
          "name": "stdout",
          "text": [
            "Average Receipt Value by City:\n",
            "City\n",
            "Mandalay     319.87\n",
            "Naypyitaw    337.10\n",
            "Yangon       312.35\n",
            "Name: Total, dtype: float64\n"
          ]
        }
      ]
    },
    {
      "cell_type": "markdown",
      "source": [
        "6. Виведіть кількість покупок, середнє, мінімальне та максимальне значення для загальної суми чеку (Total) в містах, наявних в даних, за допомогою функції groupby.\n",
        "Зробіть висновки з цих показників та дайте рекомендації для мережі супермаркетів."
      ],
      "metadata": {
        "id": "kgXBFApjLQxp"
      }
    },
    {
      "cell_type": "markdown",
      "source": [
        "**Conclusions:**\n",
        "Purchase Volume:\n",
        "\n",
        "Yangon leads with 34% of total purchases (340)\n",
        "Mandalay follows with 33.2% (332)\n",
        "Naypyitaw has 32.8% (328)\n",
        "The distribution is remarkably even across cities\n",
        "Average Receipt Value:\n",
        "\n",
        "Mandalay: 322.45 (highest)\n",
        "Naypyitaw: 319.63\n",
        "Yangon: 316.27 (lowest)\n",
        "Small variation (∼6 units) between highest and lowest averages\n",
        "Value Range:\n",
        "\n",
        "Minimum values are similar (30-33)\n",
        "Maximum values are identical (1042.12)\n",
        "Suggests consistent pricing and product range across locations\n"
      ],
      "metadata": {
        "id": "4rNiuYhQEpDH"
      }
    },
    {
      "cell_type": "markdown",
      "source": [],
      "metadata": {
        "id": "riUPwxnFE-YX"
      }
    },
    {
      "cell_type": "markdown",
      "source": [
        "**Recommendations:**\n",
        "\n",
        "1. Standardization Success:\n",
        "\n",
        "The similar statistics across cities indicate successful standardization\n",
        "Recommendation: Continue maintaining consistent operations and pricing strategies\n",
        "\n",
        "2. Volume Optimization:\n",
        "\n",
        "Yangon has highest transaction count but lowest average value\n",
        "Recommendation:\n",
        "Implement upselling strategies in Yangon\n",
        "Study Mandalay's higher average receipt value practices for potential implementation in other cities\n",
        "\n",
        "3. Transaction Value Enhancement:\n",
        "\n",
        "For Yangon:\n",
        "Introduce bundle deals to increase average transaction value\n",
        "Focus on premium product promotion\n",
        "For Naypyitaw:\n",
        "Analyze successful elements from Mandalay\n",
        "Implement targeted promotions for higher-value items\n",
        "\n",
        "4. Customer Experience:\n",
        "\n",
        "Similar minimum/maximum values suggest consistent product range\n",
        "Recommendation:\n",
        "Maintain this consistency while introducing city-specific promotions\n",
        "Consider local preferences in product placement and marketing\n",
        "\n",
        "5. Growth Strategies:\n",
        "\n",
        "Short-term:\n",
        "Focus on increasing average transaction value in Yangon\n",
        "Replicate Mandalay's success factors in other cities\n",
        "Long-term:\n",
        "Consider expansion in Yangon due to higher transaction volume\n",
        "Develop city-specific marketing strategies while maintaining overall consistency\n",
        "\n",
        "6. Data-Driven Decisions:\n",
        "\n",
        "Recommendation:\n",
        "Implement more detailed transaction tracking\n",
        "Analyze peak hours and seasonal patterns by city\n",
        "Study product category performance in each location"
      ],
      "metadata": {
        "id": "n4cyVPqxFGgu"
      }
    },
    {
      "cell_type": "markdown",
      "source": [
        "**Висновки:**\n",
        "\n",
        "1. Обсяг закупівель:\n",
        "Янгон лідирує з 34% від загальної кількості покупок (340)\n",
        "Мандалай слідує з 33,2% (332)\n",
        "Найп'їтау - 32,8% (328)\n",
        "Розподіл по містах є напрочуд рівномірним\n",
        "\n",
        "2. Середня вартість чеку:\n",
        "Мандалай: 322,45 (найвищий показник)\n",
        "Найп'їтау 319.63\n",
        "Янгон 316.27 (найнижчий)\n",
        "Невелика варіація (∼6 одиниць) між найвищим та найнижчим середнім значенням\n",
        "\n",
        "3. Діапазон значень:\n",
        "Мінімальні значення схожі (30-33)\n",
        "Максимальні значення однакові (1042,12)\n",
        "Пропонує однакові ціни та асортимент продукції в різних місцях"
      ],
      "metadata": {
        "id": "Cq9pmM9wGTcV"
      }
    },
    {
      "cell_type": "markdown",
      "source": [
        "**Рекомендації:**\n",
        "\n",
        "***1. Успіх стандартизації:***\n",
        "\n",
        "Подібна статистика в різних містах свідчить про успішну стандартизацію\n",
        "Рекомендація: Продовжувати підтримувати узгодженість операційних та цінових стратегій\n",
        "\n",
        "***2. Оптимізація обсягу:***\n",
        "Янгон має найбільшу кількість транзакцій, але найнижчу середню вартість\n",
        "Рекомендація:\n",
        "Впроваджувати стратегії допродажу в Янгоні\n",
        "Вивчити досвід Мандалая з вищою середньою вартістю чеку для потенційного впровадження в інших містах\n",
        "\n",
        "***3. Підвищення вартості транзакції:***\n",
        "Для Янгона:\n",
        "Запровадити пакетні пропозиції для збільшення середньої вартості транзакції\n",
        "Зосередитися на просуванні преміальних продуктів\n",
        "Для Найп'їтау:\n",
        "Проаналізувати успішні елементи з Мандалая\n",
        "Впровадити цільові промо-акції для товарів з вищою вартістю\n",
        "\n",
        "***4. Клієнтський досвід:***\n",
        "Схожі мінімальні/максимальні значення свідчать про послідовний асортимент продукції\n",
        "Рекомендація:\n",
        "Підтримувати цю послідовність, впроваджуючи промо-акції для конкретного міста\n",
        "Враховувати місцеві вподобання при розміщенні продукції та маркетингу\n",
        "\n",
        "***5. Стратегії зростання:***\n",
        "Короткострокова:\n",
        "Зосередитися на збільшенні середньої вартості транзакції в Янгоні\n",
        "Повторювати фактори успіху Мандалая в інших містах\n",
        "Довгострокові:\n",
        "Розглянути можливість розширення в Янгоні через більший обсяг транзакцій\n",
        "Розробити маркетингові стратегії для конкретних міст, зберігаючи загальну послідовність\n",
        "\n",
        "***6. Рішення на основі даних:***\n",
        "Рекомендація:\n",
        "Впровадити більш детальне відстеження транзакцій\n",
        "Проаналізувати години пік та сезонні патерни по містах\n",
        "Вивчати ефективність товарних категорій у кожній локації."
      ],
      "metadata": {
        "id": "m2b3d1kMGj4C"
      }
    },
    {
      "cell_type": "code",
      "source": [
        "# Step 1. Calculate statistics by city\n",
        "city_stats = df.groupby('City')['Total'].agg([\n",
        "    ('Number of Purchases', 'count'),\n",
        "    ('Average Total', 'mean'),\n",
        "    ('Minimum Total', 'min'),\n",
        "    ('Maximum Total', 'max')\n",
        "]).round(2)\n",
        "\n",
        "# Step 2. Print the results\n",
        "print(\"Purchase Statistics by City:\")\n",
        "print(city_stats)\n",
        "\n",
        "# Step 3. Add percentage of total purchases\n",
        "total_purchases = df['Total'].count()\n",
        "city_percentages = df.groupby('City')['Total'].count() / total_purchases * 100\n",
        "\n",
        "print(\"\\nPercentage of Total Purchases by City:\")\n",
        "print(city_percentages.round(2), \"%\")\n"
      ],
      "metadata": {
        "id": "qdspE5eWK0bq",
        "colab": {
          "base_uri": "https://localhost:8080/"
        },
        "outputId": "10671e0d-0720-4da3-f50b-b10bbe4bd101"
      },
      "execution_count": 15,
      "outputs": [
        {
          "output_type": "stream",
          "name": "stdout",
          "text": [
            "Purchase Statistics by City:\n",
            "           Number of Purchases  Average Total  Minimum Total  Maximum Total\n",
            "City                                                                       \n",
            "Mandalay                   332         319.87          18.64        1022.49\n",
            "Naypyitaw                  328         337.10          10.68        1042.65\n",
            "Yangon                     340         312.35          12.69        1039.29\n",
            "\n",
            "Percentage of Total Purchases by City:\n",
            "City\n",
            "Mandalay     33.2\n",
            "Naypyitaw    32.8\n",
            "Yangon       34.0\n",
            "Name: Total, dtype: float64 %\n"
          ]
        }
      ]
    },
    {
      "cell_type": "markdown",
      "source": [
        "7. Ми внесли деякі зміни в наш набір даних, тож, давайте запишемо результат у файл. Запишіть оновлену версію даних у файл `supermarket_sales_enriched.csv`. Зверніть увагу, аби не записати нічого зайвого, наприклад, індекси рядків нам в файлі не потрібні, оскільки вони стандартні."
      ],
      "metadata": {
        "id": "_GPVYoEe6M9E"
      }
    },
    {
      "cell_type": "code",
      "source": [
        "# Step 1. Save to new CSV file without index\n",
        "df.to_csv('supermarket_sales_enriched.csv', index=False)\n",
        "\n",
        "# Step 2. Verify the save was successful\n",
        "print(\"File saved successfully!\")\n",
        "print(f\"Number of columns in enriched dataset: {len(df.columns)}\")\n",
        "print(\"\\nColumns in the enriched dataset:\")\n",
        "print(df.columns.tolist())"
      ],
      "metadata": {
        "id": "MyEE8sAR6ele",
        "colab": {
          "base_uri": "https://localhost:8080/"
        },
        "outputId": "959d61ba-05fa-4cc9-f9bf-35cb60c1b20e"
      },
      "execution_count": 16,
      "outputs": [
        {
          "output_type": "stream",
          "name": "stdout",
          "text": [
            "File saved successfully!\n",
            "Number of columns in enriched dataset: 19\n",
            "\n",
            "Columns in the enriched dataset:\n",
            "['Invoice ID', 'Branch', 'City', 'Customer type', 'Gender', 'Product line', 'Unit price', 'Quantity', 'Tax 5%', 'Total', 'Date', 'Time', 'Payment', 'cogs', 'gross margin percentage', 'gross income', 'Rating', 'Rating Category', 'Hour']\n"
          ]
        }
      ]
    },
    {
      "cell_type": "code",
      "source": [
        "# Verify the saved file\n",
        "df_verify = pd.read_csv('supermarket_sales_enriched.csv')\n",
        "print(\"\\nFirst few rows of the saved file:\")\n",
        "print(df_verify.head())"
      ],
      "metadata": {
        "colab": {
          "base_uri": "https://localhost:8080/"
        },
        "id": "8StgySeQH3d_",
        "outputId": "33acf9c3-552f-4e20-c283-ecff9a18416f"
      },
      "execution_count": 17,
      "outputs": [
        {
          "output_type": "stream",
          "name": "stdout",
          "text": [
            "\n",
            "First few rows of the saved file:\n",
            "    Invoice ID Branch       City Customer type  Gender  \\\n",
            "0  750-67-8428      A     Yangon        Member  Female   \n",
            "1  226-31-3081      C  Naypyitaw        Normal  Female   \n",
            "2  631-41-3108      A     Yangon        Normal    Male   \n",
            "3  123-19-1176      A     Yangon        Member    Male   \n",
            "4  373-73-7910      A     Yangon        Normal    Male   \n",
            "\n",
            "             Product line  Unit price  Quantity   Tax 5%     Total       Date  \\\n",
            "0       Health and beauty       74.69         7  26.1415  548.9715   1/5/2019   \n",
            "1  Electronic accessories       15.28         5   3.8200   80.2200   3/8/2019   \n",
            "2      Home and lifestyle       46.33         7  16.2155  340.5255   3/3/2019   \n",
            "3       Health and beauty       58.22         8  23.2880  489.0480  1/27/2019   \n",
            "4       Sports and travel       86.31         7  30.2085  634.3785   2/8/2019   \n",
            "\n",
            "    Time      Payment    cogs  gross margin percentage  gross income  Rating  \\\n",
            "0  13:08      Ewallet  522.83                 4.761905       26.1415     9.1   \n",
            "1  10:29         Cash   76.40                 4.761905        3.8200     9.6   \n",
            "2  13:23  Credit card  324.31                 4.761905       16.2155     7.4   \n",
            "3  20:33      Ewallet  465.76                 4.761905       23.2880     8.4   \n",
            "4  10:37      Ewallet  604.17                 4.761905       30.2085     5.3   \n",
            "\n",
            "  Rating Category  Hour  \n",
            "0            High    13  \n",
            "1            High    10  \n",
            "2          Medium    13  \n",
            "3            High    20  \n",
            "4             Low    10  \n"
          ]
        }
      ]
    }
  ]
}