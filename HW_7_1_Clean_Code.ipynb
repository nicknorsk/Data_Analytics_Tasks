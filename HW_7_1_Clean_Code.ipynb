{
  "cells": [
    {
      "cell_type": "markdown",
      "id": "aed503f1",
      "metadata": {
        "ExecuteTime": {
          "end_time": "2023-07-27T20:14:32.871852Z",
          "start_time": "2023-07-27T20:14:31.036121Z"
        },
        "id": "aed503f1"
      },
      "source": [
        "У завданнях 1-4. Вам наданий простий код на Python, який не відповідає вказівкам PEP8. Ваше завдання — відредагувати код так, аби він відповідав PEP8. Напишіть після редагуванню коду, дотримання яких правил з pep8 ви досягли в відредагованій версі, наприклад\n",
        "```\n",
        "- додала пробіли навколо бінарного оператора\n",
        "- додала два порожні рядки між визначеннями функцій\n",
        "і тд\n",
        "```\n",
        "Також можна зазанчити використані правила коментарями по коду, а не окремим повідомленням.\n",
        "\n",
        "Відредагований код має виконувати весь той самий функціонал, але бути написаний відповідно до вимог до гарного коду на Python! Не забудьте запустити відредагований код, він має бути робочим."
      ]
    },
    {
      "cell_type": "markdown",
      "id": "e7fea147",
      "metadata": {
        "id": "e7fea147"
      },
      "source": [
        "Завдання 1."
      ]
    },
    {
      "cell_type": "code",
      "execution_count": 1,
      "id": "f63d84d7",
      "metadata": {
        "ExecuteTime": {
          "end_time": "2023-07-29T17:02:37.075783Z",
          "start_time": "2023-07-29T17:02:37.035259Z"
        },
        "id": "f63d84d7",
        "colab": {
          "base_uri": "https://localhost:8080/",
          "height": 69
        },
        "outputId": "aac23d17-69a5-4ecc-9681-7e4ca86c0f7c"
      },
      "outputs": [
        {
          "output_type": "stream",
          "name": "stdout",
          "text": [
            "Hello, John\n"
          ]
        },
        {
          "output_type": "display_data",
          "data": {
            "text/plain": [
              "None"
            ]
          },
          "metadata": {}
        },
        {
          "output_type": "display_data",
          "data": {
            "text/plain": [
              "8"
            ]
          },
          "metadata": {}
        }
      ],
      "source": [
        "def greet(name):print(f\"Hello, {name}\")\n",
        "def add(n1,n2):return n1+n2\n",
        "\n",
        "x = 5;y = 3\n",
        "display(greet(\"John\"),add(x,y))\n"
      ]
    },
    {
      "cell_type": "code",
      "execution_count": 2,
      "id": "41b7e672",
      "metadata": {
        "id": "41b7e672",
        "colab": {
          "base_uri": "https://localhost:8080/",
          "height": 69
        },
        "outputId": "3c254570-d959-4bd9-ad45-e4ba246135f1"
      },
      "outputs": [
        {
          "output_type": "stream",
          "name": "stdout",
          "text": [
            "Hello, John\n"
          ]
        },
        {
          "output_type": "display_data",
          "data": {
            "text/plain": [
              "None"
            ]
          },
          "metadata": {}
        },
        {
          "output_type": "display_data",
          "data": {
            "text/plain": [
              "8"
            ]
          },
          "metadata": {}
        }
      ],
      "source": [
        "# Solution for Problem 1.\n",
        "def greet(name):\n",
        "    # Added new line and indentation after function definition\n",
        "    print(f\"Hello, {name}\")\n",
        "\n",
        "\n",
        "def add(n1, n2):  # Added space after comma in parameters\n",
        "    # Added new line and indentation after function definition\n",
        "    return n1 + n2  # Added spaces around binary operator\n",
        "\n",
        "\n",
        "# Added single line declarations instead of multiple with semicolon\n",
        "x = 5  # Added single variable per line\n",
        "y = 3\n",
        "\n",
        "# Added spaces after commas in function calls\n",
        "display(greet(\"John\"), add(x, y))\n"
      ]
    },
    {
      "cell_type": "markdown",
      "id": "cea88baf",
      "metadata": {
        "id": "cea88baf"
      },
      "source": [
        "Завдання 2."
      ]
    },
    {
      "cell_type": "code",
      "execution_count": 3,
      "id": "dfb6d2b5",
      "metadata": {
        "ExecuteTime": {
          "end_time": "2023-07-29T17:05:49.706098Z",
          "start_time": "2023-07-29T17:05:49.688255Z"
        },
        "id": "dfb6d2b5",
        "colab": {
          "base_uri": "https://localhost:8080/"
        },
        "outputId": "5e429384-e611-4d53-b898-f7abf3a265dd"
      },
      "outputs": [
        {
          "output_type": "stream",
          "name": "stdout",
          "text": [
            "Area: 78.53981633974483 Circumference: 31.41592653589793\n"
          ]
        }
      ],
      "source": [
        "from math import *\n",
        "def calcArea(r):return pi*r**2\n",
        "def calcCircumference(r):return 2*pi*r\n",
        "\n",
        "radius=5\n",
        "print(\"Area:\",calcArea(radius),\"Circumference:\",calcCircumference(radius))"
      ]
    },
    {
      "cell_type": "code",
      "execution_count": 4,
      "id": "df263672",
      "metadata": {
        "id": "df263672",
        "colab": {
          "base_uri": "https://localhost:8080/"
        },
        "outputId": "0b1524ea-05a4-4c42-e5e1-cee888a59ff3"
      },
      "outputs": [
        {
          "output_type": "stream",
          "name": "stdout",
          "text": [
            "Area: 78.53981633974483 Circumference: 31.41592653589793\n"
          ]
        }
      ],
      "source": [
        "# Solution for Problem 2\n",
        "from math import pi  # Changed wildcard import to specific import\n",
        "\n",
        "\n",
        "def calc_area(r):  # Changed camelCase to snake_case\n",
        "    # Added new line and indentation after function definition\n",
        "    return pi * r ** 2  # Added spaces around operators\n",
        "\n",
        "\n",
        "def calc_circumference(r):  # Changed camelCase to snake_case\n",
        "    # Added new line and indentation after function definition\n",
        "    return 2 * pi * r  # Added spaces around operators\n",
        "\n",
        "\n",
        "radius = 5  # Added spaces around assignment operator\n",
        "\n",
        "\n",
        "# Added spaces after commas and around string concatenation\n",
        "print(\"Area:\", calc_area(radius), \"Circumference:\", calc_circumference(radius))\n"
      ]
    },
    {
      "cell_type": "markdown",
      "id": "1fd691b7",
      "metadata": {
        "id": "1fd691b7"
      },
      "source": [
        "Завдання 3."
      ]
    },
    {
      "cell_type": "code",
      "execution_count": 5,
      "id": "1d5acb2d",
      "metadata": {
        "ExecuteTime": {
          "end_time": "2023-07-29T17:06:18.612622Z",
          "start_time": "2023-07-29T17:06:18.598477Z"
        },
        "id": "1d5acb2d"
      },
      "outputs": [],
      "source": [
        "class animal: pass\n",
        "class dog(animal):\n",
        "    def __init__(self,name):\n",
        "        self.name=name\n",
        "        self.type='Dog'"
      ]
    },
    {
      "cell_type": "code",
      "execution_count": 8,
      "id": "0d4b2b8a",
      "metadata": {
        "id": "0d4b2b8a"
      },
      "outputs": [],
      "source": [
        "# Solution for Problem 3\n",
        "class Animal:  # Capitalized class name\n",
        "    pass  # Added proper indentation for pass statement\n",
        "\n",
        "\n",
        "class Dog(Animal):  # Capitalized class name\n",
        "    def __init__(self, name):  # Added space after comma\n",
        "        # Added proper indentation (4 spaces) for method body\n",
        "        self.name = name  # Added spaces around assignment operator\n",
        "        self.type = 'Dog'  # Added spaces around assignment operator\n"
      ]
    },
    {
      "cell_type": "markdown",
      "id": "7d1d4f5d",
      "metadata": {
        "id": "7d1d4f5d"
      },
      "source": [
        "Завдання 4."
      ]
    },
    {
      "cell_type": "code",
      "execution_count": 7,
      "id": "a91c1cc4",
      "metadata": {
        "ExecuteTime": {
          "end_time": "2023-07-29T17:06:47.180263Z",
          "start_time": "2023-07-29T17:06:47.173617Z"
        },
        "id": "a91c1cc4",
        "colab": {
          "base_uri": "https://localhost:8080/"
        },
        "outputId": "bf433b6d-c7ff-4c01-f369-9d18697abc73"
      },
      "outputs": [
        {
          "output_type": "stream",
          "name": "stdout",
          "text": [
            "1\n",
            "2\n",
            "3\n",
            "4\n",
            "5\n"
          ]
        }
      ],
      "source": [
        "list=[1,2,3,4,5]\n",
        "for i in range(len(list)):print(list[i])"
      ]
    },
    {
      "cell_type": "code",
      "execution_count": 10,
      "id": "c0f9541a",
      "metadata": {
        "id": "c0f9541a",
        "colab": {
          "base_uri": "https://localhost:8080/"
        },
        "outputId": "ac77b729-8674-46d1-ae0e-c3e823f99744"
      },
      "outputs": [
        {
          "output_type": "stream",
          "name": "stdout",
          "text": [
            "1\n",
            "2\n",
            "3\n",
            "4\n",
            "5\n"
          ]
        }
      ],
      "source": [
        "# Solution for Problem 4\n",
        "numbers = [1, 2, 3, 4, 5]  # Changed variable name from 'list' (built-in name)\n",
        "                           # Added spaces after commas in list\n",
        "\n",
        "# Added proper line break and indentation in for loop\n",
        "for i in range(len(numbers)):\n",
        "    print(numbers[i])  # Added indentation for loop body\n"
      ]
    },
    {
      "cell_type": "markdown",
      "id": "8b0487e6",
      "metadata": {
        "id": "8b0487e6"
      },
      "source": [
        "5.У вас є DataFrame df, що представляє результати тестів студентів з математики, англійської мови та історії. Поточний код обчислює середній бал для кожного студента шляхом ітерації за рядками DataFrame за допомогою iterrows().\n",
        "\n",
        "Ваше завдання полягає в тому, щоб змінити код так, аби уникнути використання iterrows() і замість цього застосувати більш ефективне та читабельне рішення відповідно до правил, озвучених у лекції. Рефакторинг треба зробити лише частині, де рахуються середні, імпорт і визначення датафрейму лишаємо без змін."
      ]
    },
    {
      "cell_type": "code",
      "execution_count": 11,
      "id": "5b3cc648",
      "metadata": {
        "ExecuteTime": {
          "end_time": "2023-07-29T17:15:55.926882Z",
          "start_time": "2023-07-29T17:15:55.686415Z"
        },
        "id": "5b3cc648"
      },
      "outputs": [],
      "source": [
        "import pandas as pd\n",
        "\n",
        "df = pd.DataFrame({\n",
        "    'student': ['Alice', 'Bob', 'Charlie', 'David'],\n",
        "    'math_score': [89, 94, 77, 85],\n",
        "    'english_score': [92, 88, 79, 85],\n",
        "    'history_score': [84, 92, 81, 89]\n",
        "})"
      ]
    },
    {
      "cell_type": "code",
      "execution_count": 12,
      "id": "f5858889",
      "metadata": {
        "ExecuteTime": {
          "end_time": "2023-07-29T17:15:55.926882Z",
          "start_time": "2023-07-29T17:15:55.686415Z"
        },
        "id": "f5858889"
      },
      "outputs": [],
      "source": [
        "averages = []\n",
        "for _, row in df.iterrows():\n",
        "    averages.append((row['math_score'] + row['english_score'] + row['history_score']) / 3)\n",
        "\n",
        "df['average_score'] = averages"
      ]
    },
    {
      "cell_type": "code",
      "execution_count": 13,
      "id": "74cea4fc",
      "metadata": {
        "id": "74cea4fc"
      },
      "outputs": [],
      "source": [
        "# Solution 1. Using mean()\n",
        "import pandas as pd\n",
        "\n",
        "df = pd.DataFrame({\n",
        "    'student': ['Alice', 'Bob', 'Charlie', 'David'],\n",
        "    'math_score': [89, 94, 77, 85],\n",
        "    'english_score': [92, 88, 79, 85],\n",
        "    'history_score': [84, 92, 81, 89]\n",
        "})\n",
        "\n",
        "# Vectorized operation to calculate averages\n",
        "df['average_score'] = df[['math_score', 'english_score', 'history_score']].mean(axis=1)\n"
      ]
    },
    {
      "cell_type": "code",
      "source": [
        "# Solution 2. Using apply()\n",
        "import pandas as pd\n",
        "\n",
        "df = pd.DataFrame({\n",
        "    'student': ['Alice', 'Bob', 'Charlie', 'David'],\n",
        "    'math_score': [89, 94, 77, 85],\n",
        "    'english_score': [92, 88, 79, 85],\n",
        "    'history_score': [84, 92, 81, 89]\n",
        "})\n",
        "\n",
        "# Using apply() to calculate row means\n",
        "df['average_score'] = df[['math_score', 'english_score', 'history_score']].apply(\n",
        "    lambda x: x.mean(), axis=1\n",
        ")\n"
      ],
      "metadata": {
        "id": "QwhdT8ANlBmn"
      },
      "id": "QwhdT8ANlBmn",
      "execution_count": 15,
      "outputs": []
    },
    {
      "cell_type": "code",
      "source": [
        "# solution 3. Using arithmetic\n",
        "import pandas as pd\n",
        "\n",
        "df = pd.DataFrame({\n",
        "    'student': ['Alice', 'Bob', 'Charlie', 'David'],\n",
        "    'math_score': [89, 94, 77, 85],\n",
        "    'english_score': [92, 88, 79, 85],\n",
        "    'history_score': [84, 92, 81, 89]\n",
        "})\n",
        "\n",
        "# Using direct arithmetic operations\n",
        "df['average_score'] = (df['math_score'] + df['english_score'] + df['history_score']) / 3\n"
      ],
      "metadata": {
        "id": "Q2h8ZlqwmjsK"
      },
      "id": "Q2h8ZlqwmjsK",
      "execution_count": 16,
      "outputs": []
    },
    {
      "cell_type": "code",
      "source": [
        "# Solution 4. Using agg()\n",
        "import pandas as pd\n",
        "\n",
        "df = pd.DataFrame({\n",
        "    'student': ['Alice', 'Bob', 'Charlie', 'David'],\n",
        "    'math_score': [89, 94, 77, 85],\n",
        "    'english_score': [92, 88, 79, 85],\n",
        "    'history_score': [84, 92, 81, 89]\n",
        "})\n",
        "\n",
        "# Using agg() with mean function\n",
        "score_columns = ['math_score', 'english_score', 'history_score']\n",
        "df['average_score'] = df[score_columns].agg('mean', axis=1)\n"
      ],
      "metadata": {
        "id": "q0xrMU9Ymzz4"
      },
      "id": "q0xrMU9Ymzz4",
      "execution_count": 17,
      "outputs": []
    },
    {
      "cell_type": "markdown",
      "id": "34fb1db9",
      "metadata": {
        "id": "34fb1db9"
      },
      "source": [
        "6.У Вас є великий DataFrame df, що представляє транзакції продажу в магазині. Цей DataFrame містить понад 1 мільйон рядків і кілька стовпців, зокрема «product_name», «product_category», «product_price» і «transaction_date».\n",
        "\n",
        "І «product_name», і «product_category» є рядками, що представляють численні, але обмежені унікальні назви продуктів і категорії відповідно.\n",
        "\n",
        "Напишіть код для ефективного перетворення стовпців «product_name» і «product_category» на категорійний тип для ефективного використання пам’яті.\n",
        "Спробуйте вирішити це завдання, мінімізуючи використання пам'яті та зберігаючи читабельність коду. Крім того, виміряйте використання пам’яті до та після перетворення, щоб продемонструвати підвищення ефективності.\n",
        "\n",
        "Порівняйте кількість памʼяті, яку займає наданий набір даних і новий, створений Вами. В лекції був приклад. В скільки разів менше памʼяті займає новий датафрейм?"
      ]
    },
    {
      "cell_type": "code",
      "execution_count": 18,
      "id": "d4926909",
      "metadata": {
        "ExecuteTime": {
          "end_time": "2023-07-29T21:19:30.009527Z",
          "start_time": "2023-07-29T21:19:29.595210Z"
        },
        "id": "d4926909"
      },
      "outputs": [],
      "source": [
        "import pandas as pd\n",
        "import numpy as np\n",
        "\n",
        "np.random.seed(0)\n",
        "\n",
        "products = ['apple', 'banana', 'cherry', 'dates', 'elderberry']\n",
        "categories = ['fruit', 'fruit', 'fruit', 'fruit', 'fruit']\n",
        "\n",
        "N_ROWS = 10**6\n",
        "df = pd.DataFrame({\n",
        "    'product_name': np.random.choice(products, N_ROWS),\n",
        "    'product_category': np.random.choice(categories, N_ROWS),\n",
        "    'product_price': np.random.uniform(1, 10, N_ROWS),\n",
        "    'transaction_date': pd.date_range(start='1/1/2000', periods=N_ROWS, freq='h')\n",
        "})\n"
      ]
    },
    {
      "cell_type": "code",
      "source": [
        "# Solution 1\n",
        "import pandas as pd\n",
        "import numpy as np\n",
        "\n",
        "# Create the original DataFrame\n",
        "np.random.seed(0)\n",
        "products = ['apple', 'banana', 'cherry', 'dates', 'elderberry']\n",
        "categories = ['fruit', 'fruit', 'fruit', 'fruit', 'fruit']\n",
        "N_ROWS = 10**6\n",
        "\n",
        "df = pd.DataFrame({\n",
        "    'product_name': np.random.choice(products, N_ROWS),\n",
        "    'product_category': np.random.choice(categories, N_ROWS),\n",
        "    'product_price': np.random.uniform(1, 10, N_ROWS),\n",
        "    'transaction_date': pd.date_range(start='1/1/2000', periods=N_ROWS, freq='h')\n",
        "})\n",
        "\n",
        "# Function to get memory usage in MB\n",
        "def get_memory_usage(df):\n",
        "    return df.memory_usage(deep=True).sum() / 1024**2  # Convert bytes to MB\n",
        "\n",
        "# Print initial memory usage\n",
        "initial_memory = get_memory_usage(df)\n",
        "print(f\"Initial memory usage: {initial_memory:.2f} MB\")\n",
        "\n",
        "# Create optimized DataFrame by converting to category\n",
        "df_optimized = df.copy()\n",
        "df_optimized['product_name'] = df_optimized['product_name'].astype('category')\n",
        "df_optimized['product_category'] = df_optimized['product_category'].astype('category')\n",
        "\n",
        "# Print optimized memory usage\n",
        "optimized_memory = get_memory_usage(df_optimized)\n",
        "print(f\"Optimized memory usage: {optimized_memory:.2f} MB\")\n",
        "\n",
        "# Calculate and print memory reduction\n",
        "memory_reduction = initial_memory / optimized_memory\n",
        "print(f\"Memory reduced by: {memory_reduction:.2f}x\")\n",
        "\n",
        "# Print detailed memory usage by column\n",
        "print(\"\\nDetailed memory usage by column (MB):\")\n",
        "for column in df_optimized.columns:\n",
        "    original_col_memory = df[column].memory_usage(deep=True) / 1024**2\n",
        "    optimized_col_memory = df_optimized[column].memory_usage(deep=True) / 1024**2\n",
        "    print(f\"{column}:\")\n",
        "    print(f\"  Original: {original_col_memory:.2f} MB\")\n",
        "    print(f\"  Optimized: {optimized_col_memory:.2f} MB\")\n",
        "    print(f\"  Reduction: {original_col_memory/optimized_col_memory:.2f}x\")\n"
      ],
      "metadata": {
        "colab": {
          "base_uri": "https://localhost:8080/"
        },
        "id": "_RoqVqEKoc4f",
        "outputId": "8230ce71-f3da-4a91-d0fb-79b4643cc51b"
      },
      "id": "_RoqVqEKoc4f",
      "execution_count": 21,
      "outputs": [
        {
          "output_type": "stream",
          "name": "stdout",
          "text": [
            "Initial memory usage: 134.85 MB\n",
            "Optimized memory usage: 17.17 MB\n",
            "Memory reduced by: 7.86x\n",
            "\n",
            "Detailed memory usage by column (MB):\n",
            "product_name:\n",
            "  Original: 60.46 MB\n",
            "  Optimized: 0.95 MB\n",
            "  Reduction: 63.36x\n",
            "product_category:\n",
            "  Original: 59.13 MB\n",
            "  Optimized: 0.95 MB\n",
            "  Reduction: 61.98x\n",
            "product_price:\n",
            "  Original: 7.63 MB\n",
            "  Optimized: 7.63 MB\n",
            "  Reduction: 1.00x\n",
            "transaction_date:\n",
            "  Original: 7.63 MB\n",
            "  Optimized: 7.63 MB\n",
            "  Reduction: 1.00x\n"
          ]
        }
      ]
    },
    {
      "cell_type": "code",
      "source": [
        "# Solution 2\n",
        "import pandas as pd\n",
        "import numpy as np\n",
        "\n",
        "def optimize_dtypes(df):\n",
        "    # Copy the dataframe\n",
        "    df_opt = df.copy()\n",
        "\n",
        "    # Optimize object (string) columns to category\n",
        "    object_columns = df_opt.select_dtypes(include=['object']).columns\n",
        "    for col in object_columns:\n",
        "        if df_opt[col].nunique() / len(df_opt) < 0.5:  # If less than 50% unique values\n",
        "            df_opt[col] = df_opt[col].astype('category')\n",
        "\n",
        "    # Optimize numeric columns\n",
        "    numeric_columns = df_opt.select_dtypes(include=['float64']).columns\n",
        "    for col in numeric_columns:\n",
        "        df_opt[col] = df_opt[col].astype('float32')\n",
        "\n",
        "    return df_opt\n",
        "\n",
        "# Create original DataFrame\n",
        "np.random.seed(0)\n",
        "products = ['apple', 'banana', 'cherry', 'dates', 'elderberry']\n",
        "categories = ['fruit', 'fruit', 'fruit', 'fruit', 'fruit']\n",
        "N_ROWS = 10**6\n",
        "\n",
        "df = pd.DataFrame({\n",
        "    'product_name': np.random.choice(products, N_ROWS),\n",
        "    'product_category': np.random.choice(categories, N_ROWS),\n",
        "    'product_price': np.random.uniform(1, 10, N_ROWS),\n",
        "    'transaction_date': pd.date_range(start='1/1/2000', periods=N_ROWS, freq='h')\n",
        "})\n",
        "\n",
        "# Optimize DataFrame\n",
        "df_optimized = optimize_dtypes(df)\n",
        "\n",
        "print(f\"Original memory usage: {df.memory_usage(deep=True).sum() / 1024**2:.2f} MB\")\n",
        "print(f\"Optimized memory usage: {df_optimized.memory_usage(deep=True).sum() / 1024**2:.2f} MB\")\n"
      ],
      "metadata": {
        "colab": {
          "base_uri": "https://localhost:8080/"
        },
        "id": "Vg7az4P2pXD2",
        "outputId": "81c68cbd-f9aa-4294-a8e9-d9d6269d9e99"
      },
      "id": "Vg7az4P2pXD2",
      "execution_count": 22,
      "outputs": [
        {
          "output_type": "stream",
          "name": "stdout",
          "text": [
            "Original memory usage: 134.85 MB\n",
            "Optimized memory usage: 13.35 MB\n"
          ]
        }
      ]
    },
    {
      "cell_type": "markdown",
      "id": "131cc08d",
      "metadata": {
        "id": "131cc08d"
      },
      "source": [
        "7.В цьому завданні кілька пунктів. Треба виконати усі послідовно.   \n",
        "    7.1. Завантажте дані у pandas dataframe з файла `ecommerce_data.csv`. Обовʼязково при завантаженні вкажіть параметр `encoding = 'ISO-8859-1'`, без нього буде помилка.  \n",
        "    7.2. Заповніть пропущені значення в колонці CustomerID на -1 та перетворіть тип цієї колонки на str, адже зараз вона типу float, а це не правильний тип даних для ідентифікатора клієнта.  \n",
        "    7.3. З допомогою бібліотеки sweetviz побудуйте html звіт, який порівнює дані для країни \"Germany\" і країни \"France\". У Вас можуть виникнути багато попереджень (Warning), їх рекомендую вимкнути наступним шматком коду   \n",
        "    \n",
        "   \n",
        "    import warnings\n",
        "\n",
        "    with warnings.catch_warnings(record=True):\n",
        "        # your code\n",
        "    \n",
        "    \n",
        "   7.4.Напишіть 5 відмінностей для двох зазначених країн на основі побудованого звіту, без виконання додаткового аналізу іншими інструментами."
      ]
    },
    {
      "cell_type": "code",
      "source": [
        "# Step 0. Mount Drive\n",
        "from google.colab import drive\n",
        "drive.mount('/drive')\n"
      ],
      "metadata": {
        "colab": {
          "base_uri": "https://localhost:8080/"
        },
        "id": "DvebGG8qvE1F",
        "outputId": "e2394a98-a200-4f29-bd02-0bb16d2b9724"
      },
      "id": "DvebGG8qvE1F",
      "execution_count": 24,
      "outputs": [
        {
          "output_type": "stream",
          "name": "stdout",
          "text": [
            "Drive already mounted at /drive; to attempt to forcibly remount, call drive.mount(\"/drive\", force_remount=True).\n"
          ]
        }
      ]
    },
    {
      "cell_type": "code",
      "execution_count": 25,
      "id": "17200e77",
      "metadata": {
        "id": "17200e77",
        "colab": {
          "base_uri": "https://localhost:8080/"
        },
        "outputId": "f6abdda1-2af4-4a4b-c672-2cfd4daaa41b"
      },
      "outputs": [
        {
          "output_type": "stream",
          "name": "stdout",
          "text": [
            "  InvoiceNo StockCode                          Description  Quantity  \\\n",
            "0    536365    85123A   WHITE HANGING HEART T-LIGHT HOLDER         6   \n",
            "1    536365     71053                  WHITE METAL LANTERN         6   \n",
            "2    536365    84406B       CREAM CUPID HEARTS COAT HANGER         8   \n",
            "3    536365    84029G  KNITTED UNION FLAG HOT WATER BOTTLE         6   \n",
            "4    536365    84029E       RED WOOLLY HOTTIE WHITE HEART.         6   \n",
            "\n",
            "      InvoiceDate  UnitPrice  CustomerID         Country  \n",
            "0  12/1/2010 8:26       2.55     17850.0  United Kingdom  \n",
            "1  12/1/2010 8:26       3.39     17850.0  United Kingdom  \n",
            "2  12/1/2010 8:26       2.75     17850.0  United Kingdom  \n",
            "3  12/1/2010 8:26       3.39     17850.0  United Kingdom  \n",
            "4  12/1/2010 8:26       3.39     17850.0  United Kingdom  \n"
          ]
        }
      ],
      "source": [
        "# Step 1. Load the data\n",
        "import pandas as pd\n",
        "\n",
        "# Load the data from the ecommerce_data.csv file\n",
        "\n",
        "file_path = ('/drive/MyDrive/Colab_Notebooks/Data_Analyst_Course_HP/Module_7/DATA_M7/ecommerce_data.csv')\n",
        "df = pd.read_csv(file_path, encoding='ISO-8859-1')\n",
        "\n",
        "# Display the first few rows of the dataframe to verify loading\n",
        "print(df.head())\n"
      ]
    },
    {
      "cell_type": "code",
      "source": [
        "# Step 2. Fill Missing Values in CustomerID\n",
        "# Fill missing values in CustomerID with -1 and convert to str\n",
        "df['CustomerID'] = df['CustomerID'].fillna(-1).astype(str)\n",
        "\n",
        "# Display the first few rows of the dataframe to verify changes\n",
        "print(df[['CustomerID', 'CustomerID']].head())\n"
      ],
      "metadata": {
        "colab": {
          "base_uri": "https://localhost:8080/"
        },
        "id": "LQ9uHFG0vnFE",
        "outputId": "3a0a51cc-3e53-4a7e-875c-5df39f19450d"
      },
      "id": "LQ9uHFG0vnFE",
      "execution_count": 26,
      "outputs": [
        {
          "output_type": "stream",
          "name": "stdout",
          "text": [
            "  CustomerID CustomerID\n",
            "0    17850.0    17850.0\n",
            "1    17850.0    17850.0\n",
            "2    17850.0    17850.0\n",
            "3    17850.0    17850.0\n",
            "4    17850.0    17850.0\n"
          ]
        }
      ]
    },
    {
      "cell_type": "code",
      "source": [
        "# Install sweetviz\n",
        "!pip install sweetviz\n"
      ],
      "metadata": {
        "colab": {
          "base_uri": "https://localhost:8080/"
        },
        "collapsed": true,
        "id": "QWZXQcgJwXd9",
        "outputId": "1a743a4d-1304-4356-c46f-68711d982991"
      },
      "id": "QWZXQcgJwXd9",
      "execution_count": 32,
      "outputs": [
        {
          "output_type": "stream",
          "name": "stdout",
          "text": [
            "Collecting sweetviz\n",
            "  Downloading sweetviz-2.3.1-py3-none-any.whl.metadata (24 kB)\n",
            "Requirement already satisfied: pandas!=1.0.0,!=1.0.1,!=1.0.2,>=0.25.3 in /usr/local/lib/python3.11/dist-packages (from sweetviz) (2.2.2)\n",
            "Requirement already satisfied: numpy>=1.16.0 in /usr/local/lib/python3.11/dist-packages (from sweetviz) (1.26.4)\n",
            "Requirement already satisfied: matplotlib>=3.1.3 in /usr/local/lib/python3.11/dist-packages (from sweetviz) (3.10.0)\n",
            "Requirement already satisfied: tqdm>=4.43.0 in /usr/local/lib/python3.11/dist-packages (from sweetviz) (4.67.1)\n",
            "Requirement already satisfied: scipy>=1.3.2 in /usr/local/lib/python3.11/dist-packages (from sweetviz) (1.13.1)\n",
            "Requirement already satisfied: jinja2>=2.11.1 in /usr/local/lib/python3.11/dist-packages (from sweetviz) (3.1.5)\n",
            "Requirement already satisfied: importlib-resources>=1.2.0 in /usr/local/lib/python3.11/dist-packages (from sweetviz) (6.5.2)\n",
            "Requirement already satisfied: MarkupSafe>=2.0 in /usr/local/lib/python3.11/dist-packages (from jinja2>=2.11.1->sweetviz) (3.0.2)\n",
            "Requirement already satisfied: contourpy>=1.0.1 in /usr/local/lib/python3.11/dist-packages (from matplotlib>=3.1.3->sweetviz) (1.3.1)\n",
            "Requirement already satisfied: cycler>=0.10 in /usr/local/lib/python3.11/dist-packages (from matplotlib>=3.1.3->sweetviz) (0.12.1)\n",
            "Requirement already satisfied: fonttools>=4.22.0 in /usr/local/lib/python3.11/dist-packages (from matplotlib>=3.1.3->sweetviz) (4.55.8)\n",
            "Requirement already satisfied: kiwisolver>=1.3.1 in /usr/local/lib/python3.11/dist-packages (from matplotlib>=3.1.3->sweetviz) (1.4.8)\n",
            "Requirement already satisfied: packaging>=20.0 in /usr/local/lib/python3.11/dist-packages (from matplotlib>=3.1.3->sweetviz) (24.2)\n",
            "Requirement already satisfied: pillow>=8 in /usr/local/lib/python3.11/dist-packages (from matplotlib>=3.1.3->sweetviz) (11.1.0)\n",
            "Requirement already satisfied: pyparsing>=2.3.1 in /usr/local/lib/python3.11/dist-packages (from matplotlib>=3.1.3->sweetviz) (3.2.1)\n",
            "Requirement already satisfied: python-dateutil>=2.7 in /usr/local/lib/python3.11/dist-packages (from matplotlib>=3.1.3->sweetviz) (2.8.2)\n",
            "Requirement already satisfied: pytz>=2020.1 in /usr/local/lib/python3.11/dist-packages (from pandas!=1.0.0,!=1.0.1,!=1.0.2,>=0.25.3->sweetviz) (2025.1)\n",
            "Requirement already satisfied: tzdata>=2022.7 in /usr/local/lib/python3.11/dist-packages (from pandas!=1.0.0,!=1.0.1,!=1.0.2,>=0.25.3->sweetviz) (2025.1)\n",
            "Requirement already satisfied: six>=1.5 in /usr/local/lib/python3.11/dist-packages (from python-dateutil>=2.7->matplotlib>=3.1.3->sweetviz) (1.17.0)\n",
            "Downloading sweetviz-2.3.1-py3-none-any.whl (15.1 MB)\n",
            "\u001b[2K   \u001b[90m━━━━━━━━━━━━━━━━━━━━━━━━━━━━━━━━━━━━━━━━\u001b[0m \u001b[32m15.1/15.1 MB\u001b[0m \u001b[31m70.1 MB/s\u001b[0m eta \u001b[36m0:00:00\u001b[0m\n",
            "\u001b[?25hInstalling collected packages: sweetviz\n",
            "Successfully installed sweetviz-2.3.1\n"
          ]
        }
      ]
    },
    {
      "cell_type": "code",
      "source": [
        "# Step 3. Generate Sweetviz Report for Germany and France\n",
        "import sweetviz as sv\n",
        "import warnings\n",
        "\n",
        "# Disable warnings while running the Sweetviz analysis\n",
        "with warnings.catch_warnings(record=True):\n",
        "    germany_df = df[df['Country'] == 'Germany']\n",
        "    france_df = df[df['Country'] == 'France']\n",
        "\n",
        "    # Compare data for Germany and France\n",
        "    report = sv.compare([germany_df, \"Germany\"], [france_df, \"France\"])\n",
        "\n",
        "    # Generate the HTML report\n",
        "    report.show_html(\"Germany_vs_France_Report.html\")\n",
        "\n"
      ],
      "metadata": {
        "colab": {
          "base_uri": "https://localhost:8080/",
          "height": 66,
          "referenced_widgets": [
            "975a39cc94d64beb80334abc0e584511",
            "5d3f1d428a9c4f67a423bd60bfc134c3",
            "1e1e1bd7fde745aeb3609501dd230d7d",
            "f885f3276df24c169c89c6ea4f3c048d",
            "c3bbdf76eba9420dbca6d357ba8ee9de",
            "37c9f9b34d8c47858dad0d158fdea104",
            "23f12df02951497b978379535b313f51",
            "251d0e558ed64eeb80ec8b1fdbd949c9",
            "f711e541eda0473c8f220d8fd9e6431e",
            "9df2757f989c4136865ddb280d2ecbf4",
            "5f6ac86799cd4a4da5742df2813d24d4"
          ]
        },
        "id": "shNVo1I5wCcT",
        "outputId": "f21237e0-47d9-42c3-8b44-8ea871097a95"
      },
      "id": "shNVo1I5wCcT",
      "execution_count": 33,
      "outputs": [
        {
          "output_type": "display_data",
          "data": {
            "text/plain": [
              "                                             |          | [  0%]   00:00 -> (? left)"
            ],
            "application/vnd.jupyter.widget-view+json": {
              "version_major": 2,
              "version_minor": 0,
              "model_id": "975a39cc94d64beb80334abc0e584511"
            }
          },
          "metadata": {}
        },
        {
          "output_type": "stream",
          "name": "stdout",
          "text": [
            "Report Germany_vs_France_Report.html was generated! NOTEBOOK/COLAB USERS: the web browser MAY not pop up, regardless, the report IS saved in your notebook/colab files.\n"
          ]
        }
      ]
    },
    {
      "cell_type": "code",
      "source": [
        "import pandas as pd\n",
        "import sweetviz as sv\n",
        "import warnings\n",
        "\n",
        "# Step 1. Load the data from the ecommerce_data.csv file\n",
        "file_path = ('/drive/MyDrive/Colab_Notebooks/Data_Analyst_Course_HP/Module_7/DATA_M7/ecommerce_data.csv')\n",
        "df = pd.read_csv(file_path, encoding='ISO-8859-1')\n",
        "\n",
        "# Step 2. Fill missing values in CustomerID and convert to str\n",
        "df['CustomerID'] = df['CustomerID'].fillna(-1).astype(str)\n",
        "\n",
        "# Step 3: Generate Sweetviz report for Germany and France\n",
        "with warnings.catch_warnings(record=True):\n",
        "    germany_df = df[df['Country'] == 'Germany']\n",
        "    france_df = df[df['Country'] == 'France']\n",
        "\n",
        "    report = sv.compare([germany_df, \"Germany\"], [france_df, \"France\"])\n",
        "    report.show_html(\"Germany_vs_France_Report.html\")\n",
        "\n",
        "print(\"Sweetviz analysis completed. Check 'Germany_vs_France_Report.html' for the report.\")\n"
      ],
      "metadata": {
        "colab": {
          "base_uri": "https://localhost:8080/",
          "height": 84,
          "referenced_widgets": [
            "b9c4e7a52a674f1b83e23a12a6dcc93f",
            "8b8aa20c7d124f2796c416a837ff52bc",
            "0d04b975467c412b8c6e58f85f130cb2",
            "ec6b46263076413b853e70705fab1b8e",
            "55f7346d9be147d7841231948f426e61",
            "225598bd07054c9fb62617019ff58a43",
            "311d16a90a0a4a37be7ec59ed65e1536",
            "72078ec006a64a15a360cd63010ef7d1",
            "4d71be47c8a544218027047a531cf057",
            "e858c6302e1e43b98e1026deea04e4d3",
            "32b0eabfc13b4bc5b620838cec9ae258"
          ]
        },
        "id": "kk0Hs6hoyUMk",
        "outputId": "197a71d5-8dab-439f-8b88-70b80c806c9a"
      },
      "id": "kk0Hs6hoyUMk",
      "execution_count": 35,
      "outputs": [
        {
          "output_type": "display_data",
          "data": {
            "text/plain": [
              "                                             |          | [  0%]   00:00 -> (? left)"
            ],
            "application/vnd.jupyter.widget-view+json": {
              "version_major": 2,
              "version_minor": 0,
              "model_id": "b9c4e7a52a674f1b83e23a12a6dcc93f"
            }
          },
          "metadata": {}
        },
        {
          "output_type": "stream",
          "name": "stdout",
          "text": [
            "Report Germany_vs_France_Report.html was generated! NOTEBOOK/COLAB USERS: the web browser MAY not pop up, regardless, the report IS saved in your notebook/colab files.\n",
            "Sweetviz analysis completed. Check 'Germany_vs_France_Report.html' for the report.\n"
          ]
        }
      ]
    },
    {
      "cell_type": "markdown",
      "source": [
        "**Step 4. Here are five potential differences you might notice:**\n",
        "\n",
        "1. Customer Count: Compare the number of transactions or unique customers in Germany vs. France.\n",
        "\n",
        "2. Average Order Value: Look at whether the average UnitPrice or TotalPrice per transaction differs between the two countries.\n",
        "\n",
        "3. Number of Transactions per Day: Examine the frequency of transactions over time and how it varies between Germany and France.\n",
        "\n",
        "4. Popular Products: Identify the top-selling products and see if different products are more popular in Germany compared to France.\n",
        "\n",
        "5. Missing Values: Check for discrepancies in missing values within key columns like CustomerID, Quantity, or UnitPrice."
      ],
      "metadata": {
        "id": "jCu8kTT-z3wU"
      },
      "id": "jCu8kTT-z3wU"
    },
    {
      "cell_type": "markdown",
      "id": "07ae375a",
      "metadata": {
        "ExecuteTime": {
          "end_time": "2023-07-30T18:55:42.650457Z",
          "start_time": "2023-07-30T18:55:42.635729Z"
        },
        "id": "07ae375a"
      },
      "source": [
        "8.З допомогою ChatGPT виявіть, чи є та які помилки в наступному коді.  \n",
        "Попросіть після цього переписати код із дотриманням PEP8. Проаналізуйте результат. Чи справді ChatGPT виправив всі стилістичні помилки? Якщо ні, напишіть йому ще кілька запитів, аби код відповідав вимогам PEP8.  \n",
        "Вставте фінальну версію коду з чату у ноутбук та запустіть на заданому списку. Має вертатись 50.  \n",
        "Напишіть, які промпти (інструкції) при зверненні до ChatGPT ви застосували та додайте скріншот(-и) з промптами та відповідями чата.  \n",
        "Якщо зробили висновки при виконанні цього завдання, то діліться також :)\n",
        "\n",
        "**ЯК ВСТАВИТИ СКРІНШОТ в Jupyter Notebook** :\n",
        "1. Створіть нову Markdown клітинку\n",
        "2. В новоствореній клітинці обираєте в меню Jupyter Notebook Edit -> Insert Image\n",
        "3. Обираєте картинку\n",
        "4. В клітинці має зʼявитись текст, який містить картинку. Запустіть клітинку.\n",
        "\n",
        "Або можна просто перетягнути картинку в Markdown клітинку."
      ]
    },
    {
      "cell_type": "code",
      "execution_count": 36,
      "id": "a5c010c4",
      "metadata": {
        "ExecuteTime": {
          "end_time": "2023-07-30T19:16:20.977219Z",
          "start_time": "2023-07-30T19:16:20.973688Z"
        },
        "id": "a5c010c4"
      },
      "outputs": [],
      "source": [
        "def CalculateVariance(nl):\n",
        "    sum_list = 0\n",
        "    for n in nl:\n",
        "        sum_list = sum_list + n\n",
        "    mean = sum_list / len(nl)\n",
        "    sum_squares = 0\n",
        "    for n in nl:\n",
        "        sum_squares = sum_squares + n**2\n",
        "    mean_squares = sum_squares / len(nl)\n",
        "    return mean_squares"
      ]
    },
    {
      "cell_type": "code",
      "execution_count": 37,
      "id": "24bb3f81",
      "metadata": {
        "ExecuteTime": {
          "end_time": "2023-07-30T19:16:09.201841Z",
          "start_time": "2023-07-30T19:16:09.199174Z"
        },
        "id": "24bb3f81"
      },
      "outputs": [],
      "source": [
        "input_list = [75, 80, 85, 90, 95]"
      ]
    },
    {
      "cell_type": "markdown",
      "source": [
        "![Screenshot from 2025-02-09 23-37-37.png](data:image/png;base64,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)"
      ],
      "metadata": {
        "id": "uEt8Cof43d-c"
      },
      "id": "uEt8Cof43d-c"
    },
    {
      "cell_type": "code",
      "source": [
        "def calculate_variance(nl):\n",
        "    # Calculate the sum of the list\n",
        "    sum_list = sum(nl)\n",
        "\n",
        "    # Calculate the mean of the list\n",
        "    mean = sum_list / len(nl)\n",
        "\n",
        "    # Calculate the sum of squares of the list\n",
        "    sum_squares = sum(n ** 2 for n in nl)\n",
        "\n",
        "    # Calculate the mean of the squares\n",
        "    mean_squares = sum_squares / len(nl)\n",
        "\n",
        "    # Calculate the variance\n",
        "    variance = mean_squares - mean ** 2\n",
        "\n",
        "    return variance\n",
        "\n",
        "# Input list\n",
        "input_list = [75, 80, 85, 90, 95]\n",
        "\n",
        "# Calculate variance\n",
        "variance = calculate_variance(input_list)\n",
        "print(\"Variance:\", variance)\n"
      ],
      "metadata": {
        "colab": {
          "base_uri": "https://localhost:8080/"
        },
        "id": "Snvz0zZf4Vga",
        "outputId": "e9ecae5c-0c32-41fd-8e7c-419a2f7020c2"
      },
      "id": "Snvz0zZf4Vga",
      "execution_count": 39,
      "outputs": [
        {
          "output_type": "stream",
          "name": "stdout",
          "text": [
            "Variance: 50.0\n"
          ]
        }
      ]
    },
    {
      "cell_type": "markdown",
      "source": [
        "A docstring is not present. The code needs to be updated."
      ],
      "metadata": {
        "id": "QjepCp9h5GFE"
      },
      "id": "QjepCp9h5GFE"
    },
    {
      "cell_type": "markdown",
      "source": [
        "![Screenshot from 2025-02-09 23-39-32.png](data:image/png;base64,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)"
      ],
      "metadata": {
        "id": "8PZGQtUk32G6"
      },
      "id": "8PZGQtUk32G6"
    },
    {
      "cell_type": "code",
      "source": [
        "def calculate_variance(numbers):\n",
        "    \"\"\"\n",
        "    Calculate the variance of a list of numbers.\n",
        "\n",
        "    Args:\n",
        "        numbers (list): A list of numerical values.\n",
        "\n",
        "    Returns:\n",
        "        float: The variance of the list of numbers.\n",
        "    \"\"\"\n",
        "    # Calculate the sum of the list\n",
        "    total_sum = sum(numbers)\n",
        "\n",
        "    # Calculate the mean of the list\n",
        "    mean = total_sum / len(numbers)\n",
        "\n",
        "    # Calculate the sum of squares of the list\n",
        "    sum_squares = sum(n ** 2 for n in numbers)\n",
        "\n",
        "    # Calculate the mean of the squares\n",
        "    mean_squares = sum_squares / len(numbers)\n",
        "\n",
        "    # Calculate the variance\n",
        "    variance = mean_squares - mean ** 2\n",
        "\n",
        "    return variance\n",
        "\n",
        "\n",
        "# Example usage\n",
        "input_list = [75, 80, 85, 90, 95]\n",
        "\n",
        "# Calculate and print variance\n",
        "variance = calculate_variance(input_list)\n",
        "print(\"Variance:\", variance)\n"
      ],
      "metadata": {
        "colab": {
          "base_uri": "https://localhost:8080/"
        },
        "id": "_aR2TWTS3bDg",
        "outputId": "47803d88-adfd-4784-ea43-53868b3c3a43"
      },
      "id": "_aR2TWTS3bDg",
      "execution_count": 38,
      "outputs": [
        {
          "output_type": "stream",
          "name": "stdout",
          "text": [
            "Variance: 50.0\n"
          ]
        }
      ]
    }
  ],
  "metadata": {
    "kernelspec": {
      "display_name": "Python 3 (ipykernel)",
      "language": "python",
      "name": "python3"
    },
    "language_info": {
      "codemirror_mode": {
        "name": "ipython",
        "version": 3
      },
      "file_extension": ".py",
      "mimetype": "text/x-python",
      "name": "python",
      "nbconvert_exporter": "python",
      "pygments_lexer": "ipython3",
      "version": "3.10.4"
    },
    "toc": {
      "base_numbering": 1,
      "nav_menu": {},
      "number_sections": true,
      "sideBar": true,
      "skip_h1_title": false,
      "title_cell": "Table of Contents",
      "title_sidebar": "Contents",
      "toc_cell": false,
      "toc_position": {},
      "toc_section_display": true,
      "toc_window_display": false
    },
    "colab": {
      "provenance": []
    },
    "widgets": {
      "application/vnd.jupyter.widget-state+json": {
        "975a39cc94d64beb80334abc0e584511": {
          "model_module": "@jupyter-widgets/controls",
          "model_name": "HBoxModel",
          "model_module_version": "1.5.0",
          "state": {
            "_dom_classes": [],
            "_model_module": "@jupyter-widgets/controls",
            "_model_module_version": "1.5.0",
            "_model_name": "HBoxModel",
            "_view_count": null,
            "_view_module": "@jupyter-widgets/controls",
            "_view_module_version": "1.5.0",
            "_view_name": "HBoxView",
            "box_style": "",
            "children": [
              "IPY_MODEL_5d3f1d428a9c4f67a423bd60bfc134c3",
              "IPY_MODEL_1e1e1bd7fde745aeb3609501dd230d7d",
              "IPY_MODEL_f885f3276df24c169c89c6ea4f3c048d"
            ],
            "layout": "IPY_MODEL_c3bbdf76eba9420dbca6d357ba8ee9de"
          }
        },
        "5d3f1d428a9c4f67a423bd60bfc134c3": {
          "model_module": "@jupyter-widgets/controls",
          "model_name": "HTMLModel",
          "model_module_version": "1.5.0",
          "state": {
            "_dom_classes": [],
            "_model_module": "@jupyter-widgets/controls",
            "_model_module_version": "1.5.0",
            "_model_name": "HTMLModel",
            "_view_count": null,
            "_view_module": "@jupyter-widgets/controls",
            "_view_module_version": "1.5.0",
            "_view_name": "HTMLView",
            "description": "",
            "description_tooltip": null,
            "layout": "IPY_MODEL_37c9f9b34d8c47858dad0d158fdea104",
            "placeholder": "​",
            "style": "IPY_MODEL_23f12df02951497b978379535b313f51",
            "value": "Done! Use &#x27;show&#x27; commands to display/save.   "
          }
        },
        "1e1e1bd7fde745aeb3609501dd230d7d": {
          "model_module": "@jupyter-widgets/controls",
          "model_name": "FloatProgressModel",
          "model_module_version": "1.5.0",
          "state": {
            "_dom_classes": [],
            "_model_module": "@jupyter-widgets/controls",
            "_model_module_version": "1.5.0",
            "_model_name": "FloatProgressModel",
            "_view_count": null,
            "_view_module": "@jupyter-widgets/controls",
            "_view_module_version": "1.5.0",
            "_view_name": "ProgressView",
            "bar_style": "success",
            "description": "",
            "description_tooltip": null,
            "layout": "IPY_MODEL_251d0e558ed64eeb80ec8b1fdbd949c9",
            "max": 1,
            "min": 0,
            "orientation": "horizontal",
            "style": "IPY_MODEL_f711e541eda0473c8f220d8fd9e6431e",
            "value": 1
          }
        },
        "f885f3276df24c169c89c6ea4f3c048d": {
          "model_module": "@jupyter-widgets/controls",
          "model_name": "HTMLModel",
          "model_module_version": "1.5.0",
          "state": {
            "_dom_classes": [],
            "_model_module": "@jupyter-widgets/controls",
            "_model_module_version": "1.5.0",
            "_model_name": "HTMLModel",
            "_view_count": null,
            "_view_module": "@jupyter-widgets/controls",
            "_view_module_version": "1.5.0",
            "_view_name": "HTMLView",
            "description": "",
            "description_tooltip": null,
            "layout": "IPY_MODEL_9df2757f989c4136865ddb280d2ecbf4",
            "placeholder": "​",
            "style": "IPY_MODEL_5f6ac86799cd4a4da5742df2813d24d4",
            "value": " [100%]   00:06 -&gt; (00:00 left)"
          }
        },
        "c3bbdf76eba9420dbca6d357ba8ee9de": {
          "model_module": "@jupyter-widgets/base",
          "model_name": "LayoutModel",
          "model_module_version": "1.2.0",
          "state": {
            "_model_module": "@jupyter-widgets/base",
            "_model_module_version": "1.2.0",
            "_model_name": "LayoutModel",
            "_view_count": null,
            "_view_module": "@jupyter-widgets/base",
            "_view_module_version": "1.2.0",
            "_view_name": "LayoutView",
            "align_content": null,
            "align_items": null,
            "align_self": null,
            "border": null,
            "bottom": null,
            "display": "inline-flex",
            "flex": null,
            "flex_flow": "row wrap",
            "grid_area": null,
            "grid_auto_columns": null,
            "grid_auto_flow": null,
            "grid_auto_rows": null,
            "grid_column": null,
            "grid_gap": null,
            "grid_row": null,
            "grid_template_areas": null,
            "grid_template_columns": null,
            "grid_template_rows": null,
            "height": null,
            "justify_content": null,
            "justify_items": null,
            "left": null,
            "margin": null,
            "max_height": null,
            "max_width": null,
            "min_height": null,
            "min_width": null,
            "object_fit": null,
            "object_position": null,
            "order": null,
            "overflow": null,
            "overflow_x": null,
            "overflow_y": null,
            "padding": null,
            "right": null,
            "top": null,
            "visibility": null,
            "width": "100%"
          }
        },
        "37c9f9b34d8c47858dad0d158fdea104": {
          "model_module": "@jupyter-widgets/base",
          "model_name": "LayoutModel",
          "model_module_version": "1.2.0",
          "state": {
            "_model_module": "@jupyter-widgets/base",
            "_model_module_version": "1.2.0",
            "_model_name": "LayoutModel",
            "_view_count": null,
            "_view_module": "@jupyter-widgets/base",
            "_view_module_version": "1.2.0",
            "_view_name": "LayoutView",
            "align_content": null,
            "align_items": null,
            "align_self": null,
            "border": null,
            "bottom": null,
            "display": null,
            "flex": null,
            "flex_flow": null,
            "grid_area": null,
            "grid_auto_columns": null,
            "grid_auto_flow": null,
            "grid_auto_rows": null,
            "grid_column": null,
            "grid_gap": null,
            "grid_row": null,
            "grid_template_areas": null,
            "grid_template_columns": null,
            "grid_template_rows": null,
            "height": null,
            "justify_content": null,
            "justify_items": null,
            "left": null,
            "margin": null,
            "max_height": null,
            "max_width": null,
            "min_height": null,
            "min_width": null,
            "object_fit": null,
            "object_position": null,
            "order": null,
            "overflow": null,
            "overflow_x": null,
            "overflow_y": null,
            "padding": null,
            "right": null,
            "top": null,
            "visibility": null,
            "width": null
          }
        },
        "23f12df02951497b978379535b313f51": {
          "model_module": "@jupyter-widgets/controls",
          "model_name": "DescriptionStyleModel",
          "model_module_version": "1.5.0",
          "state": {
            "_model_module": "@jupyter-widgets/controls",
            "_model_module_version": "1.5.0",
            "_model_name": "DescriptionStyleModel",
            "_view_count": null,
            "_view_module": "@jupyter-widgets/base",
            "_view_module_version": "1.2.0",
            "_view_name": "StyleView",
            "description_width": ""
          }
        },
        "251d0e558ed64eeb80ec8b1fdbd949c9": {
          "model_module": "@jupyter-widgets/base",
          "model_name": "LayoutModel",
          "model_module_version": "1.2.0",
          "state": {
            "_model_module": "@jupyter-widgets/base",
            "_model_module_version": "1.2.0",
            "_model_name": "LayoutModel",
            "_view_count": null,
            "_view_module": "@jupyter-widgets/base",
            "_view_module_version": "1.2.0",
            "_view_name": "LayoutView",
            "align_content": null,
            "align_items": null,
            "align_self": null,
            "border": null,
            "bottom": null,
            "display": null,
            "flex": "2",
            "flex_flow": null,
            "grid_area": null,
            "grid_auto_columns": null,
            "grid_auto_flow": null,
            "grid_auto_rows": null,
            "grid_column": null,
            "grid_gap": null,
            "grid_row": null,
            "grid_template_areas": null,
            "grid_template_columns": null,
            "grid_template_rows": null,
            "height": null,
            "justify_content": null,
            "justify_items": null,
            "left": null,
            "margin": null,
            "max_height": null,
            "max_width": null,
            "min_height": null,
            "min_width": null,
            "object_fit": null,
            "object_position": null,
            "order": null,
            "overflow": null,
            "overflow_x": null,
            "overflow_y": null,
            "padding": null,
            "right": null,
            "top": null,
            "visibility": null,
            "width": null
          }
        },
        "f711e541eda0473c8f220d8fd9e6431e": {
          "model_module": "@jupyter-widgets/controls",
          "model_name": "ProgressStyleModel",
          "model_module_version": "1.5.0",
          "state": {
            "_model_module": "@jupyter-widgets/controls",
            "_model_module_version": "1.5.0",
            "_model_name": "ProgressStyleModel",
            "_view_count": null,
            "_view_module": "@jupyter-widgets/base",
            "_view_module_version": "1.2.0",
            "_view_name": "StyleView",
            "bar_color": null,
            "description_width": ""
          }
        },
        "9df2757f989c4136865ddb280d2ecbf4": {
          "model_module": "@jupyter-widgets/base",
          "model_name": "LayoutModel",
          "model_module_version": "1.2.0",
          "state": {
            "_model_module": "@jupyter-widgets/base",
            "_model_module_version": "1.2.0",
            "_model_name": "LayoutModel",
            "_view_count": null,
            "_view_module": "@jupyter-widgets/base",
            "_view_module_version": "1.2.0",
            "_view_name": "LayoutView",
            "align_content": null,
            "align_items": null,
            "align_self": null,
            "border": null,
            "bottom": null,
            "display": null,
            "flex": null,
            "flex_flow": null,
            "grid_area": null,
            "grid_auto_columns": null,
            "grid_auto_flow": null,
            "grid_auto_rows": null,
            "grid_column": null,
            "grid_gap": null,
            "grid_row": null,
            "grid_template_areas": null,
            "grid_template_columns": null,
            "grid_template_rows": null,
            "height": null,
            "justify_content": null,
            "justify_items": null,
            "left": null,
            "margin": null,
            "max_height": null,
            "max_width": null,
            "min_height": null,
            "min_width": null,
            "object_fit": null,
            "object_position": null,
            "order": null,
            "overflow": null,
            "overflow_x": null,
            "overflow_y": null,
            "padding": null,
            "right": null,
            "top": null,
            "visibility": null,
            "width": null
          }
        },
        "5f6ac86799cd4a4da5742df2813d24d4": {
          "model_module": "@jupyter-widgets/controls",
          "model_name": "DescriptionStyleModel",
          "model_module_version": "1.5.0",
          "state": {
            "_model_module": "@jupyter-widgets/controls",
            "_model_module_version": "1.5.0",
            "_model_name": "DescriptionStyleModel",
            "_view_count": null,
            "_view_module": "@jupyter-widgets/base",
            "_view_module_version": "1.2.0",
            "_view_name": "StyleView",
            "description_width": ""
          }
        },
        "b9c4e7a52a674f1b83e23a12a6dcc93f": {
          "model_module": "@jupyter-widgets/controls",
          "model_name": "HBoxModel",
          "model_module_version": "1.5.0",
          "state": {
            "_dom_classes": [],
            "_model_module": "@jupyter-widgets/controls",
            "_model_module_version": "1.5.0",
            "_model_name": "HBoxModel",
            "_view_count": null,
            "_view_module": "@jupyter-widgets/controls",
            "_view_module_version": "1.5.0",
            "_view_name": "HBoxView",
            "box_style": "",
            "children": [
              "IPY_MODEL_8b8aa20c7d124f2796c416a837ff52bc",
              "IPY_MODEL_0d04b975467c412b8c6e58f85f130cb2",
              "IPY_MODEL_ec6b46263076413b853e70705fab1b8e"
            ],
            "layout": "IPY_MODEL_55f7346d9be147d7841231948f426e61"
          }
        },
        "8b8aa20c7d124f2796c416a837ff52bc": {
          "model_module": "@jupyter-widgets/controls",
          "model_name": "HTMLModel",
          "model_module_version": "1.5.0",
          "state": {
            "_dom_classes": [],
            "_model_module": "@jupyter-widgets/controls",
            "_model_module_version": "1.5.0",
            "_model_name": "HTMLModel",
            "_view_count": null,
            "_view_module": "@jupyter-widgets/controls",
            "_view_module_version": "1.5.0",
            "_view_name": "HTMLView",
            "description": "",
            "description_tooltip": null,
            "layout": "IPY_MODEL_225598bd07054c9fb62617019ff58a43",
            "placeholder": "​",
            "style": "IPY_MODEL_311d16a90a0a4a37be7ec59ed65e1536",
            "value": "Done! Use &#x27;show&#x27; commands to display/save.   "
          }
        },
        "0d04b975467c412b8c6e58f85f130cb2": {
          "model_module": "@jupyter-widgets/controls",
          "model_name": "FloatProgressModel",
          "model_module_version": "1.5.0",
          "state": {
            "_dom_classes": [],
            "_model_module": "@jupyter-widgets/controls",
            "_model_module_version": "1.5.0",
            "_model_name": "FloatProgressModel",
            "_view_count": null,
            "_view_module": "@jupyter-widgets/controls",
            "_view_module_version": "1.5.0",
            "_view_name": "ProgressView",
            "bar_style": "success",
            "description": "",
            "description_tooltip": null,
            "layout": "IPY_MODEL_72078ec006a64a15a360cd63010ef7d1",
            "max": 1,
            "min": 0,
            "orientation": "horizontal",
            "style": "IPY_MODEL_4d71be47c8a544218027047a531cf057",
            "value": 1
          }
        },
        "ec6b46263076413b853e70705fab1b8e": {
          "model_module": "@jupyter-widgets/controls",
          "model_name": "HTMLModel",
          "model_module_version": "1.5.0",
          "state": {
            "_dom_classes": [],
            "_model_module": "@jupyter-widgets/controls",
            "_model_module_version": "1.5.0",
            "_model_name": "HTMLModel",
            "_view_count": null,
            "_view_module": "@jupyter-widgets/controls",
            "_view_module_version": "1.5.0",
            "_view_name": "HTMLView",
            "description": "",
            "description_tooltip": null,
            "layout": "IPY_MODEL_e858c6302e1e43b98e1026deea04e4d3",
            "placeholder": "​",
            "style": "IPY_MODEL_32b0eabfc13b4bc5b620838cec9ae258",
            "value": " [100%]   00:00 -&gt; (00:00 left)"
          }
        },
        "55f7346d9be147d7841231948f426e61": {
          "model_module": "@jupyter-widgets/base",
          "model_name": "LayoutModel",
          "model_module_version": "1.2.0",
          "state": {
            "_model_module": "@jupyter-widgets/base",
            "_model_module_version": "1.2.0",
            "_model_name": "LayoutModel",
            "_view_count": null,
            "_view_module": "@jupyter-widgets/base",
            "_view_module_version": "1.2.0",
            "_view_name": "LayoutView",
            "align_content": null,
            "align_items": null,
            "align_self": null,
            "border": null,
            "bottom": null,
            "display": "inline-flex",
            "flex": null,
            "flex_flow": "row wrap",
            "grid_area": null,
            "grid_auto_columns": null,
            "grid_auto_flow": null,
            "grid_auto_rows": null,
            "grid_column": null,
            "grid_gap": null,
            "grid_row": null,
            "grid_template_areas": null,
            "grid_template_columns": null,
            "grid_template_rows": null,
            "height": null,
            "justify_content": null,
            "justify_items": null,
            "left": null,
            "margin": null,
            "max_height": null,
            "max_width": null,
            "min_height": null,
            "min_width": null,
            "object_fit": null,
            "object_position": null,
            "order": null,
            "overflow": null,
            "overflow_x": null,
            "overflow_y": null,
            "padding": null,
            "right": null,
            "top": null,
            "visibility": null,
            "width": "100%"
          }
        },
        "225598bd07054c9fb62617019ff58a43": {
          "model_module": "@jupyter-widgets/base",
          "model_name": "LayoutModel",
          "model_module_version": "1.2.0",
          "state": {
            "_model_module": "@jupyter-widgets/base",
            "_model_module_version": "1.2.0",
            "_model_name": "LayoutModel",
            "_view_count": null,
            "_view_module": "@jupyter-widgets/base",
            "_view_module_version": "1.2.0",
            "_view_name": "LayoutView",
            "align_content": null,
            "align_items": null,
            "align_self": null,
            "border": null,
            "bottom": null,
            "display": null,
            "flex": null,
            "flex_flow": null,
            "grid_area": null,
            "grid_auto_columns": null,
            "grid_auto_flow": null,
            "grid_auto_rows": null,
            "grid_column": null,
            "grid_gap": null,
            "grid_row": null,
            "grid_template_areas": null,
            "grid_template_columns": null,
            "grid_template_rows": null,
            "height": null,
            "justify_content": null,
            "justify_items": null,
            "left": null,
            "margin": null,
            "max_height": null,
            "max_width": null,
            "min_height": null,
            "min_width": null,
            "object_fit": null,
            "object_position": null,
            "order": null,
            "overflow": null,
            "overflow_x": null,
            "overflow_y": null,
            "padding": null,
            "right": null,
            "top": null,
            "visibility": null,
            "width": null
          }
        },
        "311d16a90a0a4a37be7ec59ed65e1536": {
          "model_module": "@jupyter-widgets/controls",
          "model_name": "DescriptionStyleModel",
          "model_module_version": "1.5.0",
          "state": {
            "_model_module": "@jupyter-widgets/controls",
            "_model_module_version": "1.5.0",
            "_model_name": "DescriptionStyleModel",
            "_view_count": null,
            "_view_module": "@jupyter-widgets/base",
            "_view_module_version": "1.2.0",
            "_view_name": "StyleView",
            "description_width": ""
          }
        },
        "72078ec006a64a15a360cd63010ef7d1": {
          "model_module": "@jupyter-widgets/base",
          "model_name": "LayoutModel",
          "model_module_version": "1.2.0",
          "state": {
            "_model_module": "@jupyter-widgets/base",
            "_model_module_version": "1.2.0",
            "_model_name": "LayoutModel",
            "_view_count": null,
            "_view_module": "@jupyter-widgets/base",
            "_view_module_version": "1.2.0",
            "_view_name": "LayoutView",
            "align_content": null,
            "align_items": null,
            "align_self": null,
            "border": null,
            "bottom": null,
            "display": null,
            "flex": "2",
            "flex_flow": null,
            "grid_area": null,
            "grid_auto_columns": null,
            "grid_auto_flow": null,
            "grid_auto_rows": null,
            "grid_column": null,
            "grid_gap": null,
            "grid_row": null,
            "grid_template_areas": null,
            "grid_template_columns": null,
            "grid_template_rows": null,
            "height": null,
            "justify_content": null,
            "justify_items": null,
            "left": null,
            "margin": null,
            "max_height": null,
            "max_width": null,
            "min_height": null,
            "min_width": null,
            "object_fit": null,
            "object_position": null,
            "order": null,
            "overflow": null,
            "overflow_x": null,
            "overflow_y": null,
            "padding": null,
            "right": null,
            "top": null,
            "visibility": null,
            "width": null
          }
        },
        "4d71be47c8a544218027047a531cf057": {
          "model_module": "@jupyter-widgets/controls",
          "model_name": "ProgressStyleModel",
          "model_module_version": "1.5.0",
          "state": {
            "_model_module": "@jupyter-widgets/controls",
            "_model_module_version": "1.5.0",
            "_model_name": "ProgressStyleModel",
            "_view_count": null,
            "_view_module": "@jupyter-widgets/base",
            "_view_module_version": "1.2.0",
            "_view_name": "StyleView",
            "bar_color": null,
            "description_width": ""
          }
        },
        "e858c6302e1e43b98e1026deea04e4d3": {
          "model_module": "@jupyter-widgets/base",
          "model_name": "LayoutModel",
          "model_module_version": "1.2.0",
          "state": {
            "_model_module": "@jupyter-widgets/base",
            "_model_module_version": "1.2.0",
            "_model_name": "LayoutModel",
            "_view_count": null,
            "_view_module": "@jupyter-widgets/base",
            "_view_module_version": "1.2.0",
            "_view_name": "LayoutView",
            "align_content": null,
            "align_items": null,
            "align_self": null,
            "border": null,
            "bottom": null,
            "display": null,
            "flex": null,
            "flex_flow": null,
            "grid_area": null,
            "grid_auto_columns": null,
            "grid_auto_flow": null,
            "grid_auto_rows": null,
            "grid_column": null,
            "grid_gap": null,
            "grid_row": null,
            "grid_template_areas": null,
            "grid_template_columns": null,
            "grid_template_rows": null,
            "height": null,
            "justify_content": null,
            "justify_items": null,
            "left": null,
            "margin": null,
            "max_height": null,
            "max_width": null,
            "min_height": null,
            "min_width": null,
            "object_fit": null,
            "object_position": null,
            "order": null,
            "overflow": null,
            "overflow_x": null,
            "overflow_y": null,
            "padding": null,
            "right": null,
            "top": null,
            "visibility": null,
            "width": null
          }
        },
        "32b0eabfc13b4bc5b620838cec9ae258": {
          "model_module": "@jupyter-widgets/controls",
          "model_name": "DescriptionStyleModel",
          "model_module_version": "1.5.0",
          "state": {
            "_model_module": "@jupyter-widgets/controls",
            "_model_module_version": "1.5.0",
            "_model_name": "DescriptionStyleModel",
            "_view_count": null,
            "_view_module": "@jupyter-widgets/base",
            "_view_module_version": "1.2.0",
            "_view_name": "StyleView",
            "description_width": ""
          }
        }
      }
    }
  },
  "nbformat": 4,
  "nbformat_minor": 5
}