{
  "nbformat": 4,
  "nbformat_minor": 0,
  "metadata": {
    "colab": {
      "provenance": []
    },
    "kernelspec": {
      "name": "python3",
      "display_name": "Python 3"
    },
    "language_info": {
      "name": "python"
    }
  },
  "cells": [
    {
      "cell_type": "markdown",
      "source": [
        "#Домашнє завдання до теми \"Конструкція if...else\""
      ],
      "metadata": {
        "id": "ZrhGiOYxAAbb"
      }
    },
    {
      "cell_type": "markdown",
      "source": [
        "1. **Перевірка температури:**\n",
        "   - Завдання:\n",
        "     - Дано заздалегідь визначену змінну температури `temperature`. Перевірте її значення.\n",
        "     - Якщо температура вище 25 градусів Цельсія, виведіть \"Це теплий день.\"\n",
        "     - Якщо температура знаходиться в межах від 15 до 25 градусів Цельсія (включно), виведіть \"Це приємний день.\"\n",
        "     - В іншому випадку виведіть \"Це холодний день.\""
      ],
      "metadata": {
        "id": "mpXlwoNP-cWT"
      }
    },
    {
      "cell_type": "code",
      "source": [
        "temperature = 20"
      ],
      "metadata": {
        "id": "fho34W3U-ssw"
      },
      "execution_count": null,
      "outputs": []
    },
    {
      "cell_type": "code",
      "source": [
        "# First solution:\n",
        "if (temperature > 25):\n",
        "  print(\"This is a warm day\")\n",
        "elif (15 <= temperature <=25):\n",
        "  print(\"This is a nice day\")\n",
        "else:\n",
        "  print(\"This is a cold day\")\n",
        "\n",
        "\n",
        "\n",
        "# Second solution with function in range():\n",
        "if (temperature > 25):\n",
        "  print(\"This is a warm day\")\n",
        "elif (temperature in range (15,26)):\n",
        "  print(\"This is a nice day\")\n",
        "else:\n",
        "  print(\"This is a cold day\")"
      ],
      "metadata": {
        "id": "CC3TlffAAPxK",
        "colab": {
          "base_uri": "https://localhost:8080/"
        },
        "outputId": "5b8c79db-8799-4441-f649-037ce2af19e8"
      },
      "execution_count": null,
      "outputs": [
        {
          "output_type": "stream",
          "name": "stdout",
          "text": [
            "This is a nice day\n",
            "This is a nice day\n"
          ]
        }
      ]
    },
    {
      "cell_type": "markdown",
      "source": [
        "2. **Калькулятор оцінок:**\n",
        "   - Завдання:\n",
        "     - Дано заздалегідь визначену змінну `score` із результатом іспиту (зі 100 балів). Ваша задача визначити відповідну літеру цієї оцінки за правилами нижче.\n",
        "     - Якщо оцінка 90 або вище, виведіть \"A\".\n",
        "     - Якщо оцінка знаходиться в межах від 80 до 89, виведіть \"B\".\n",
        "     - Якщо оцінка знаходиться в межах від 70 до 79, виведіть \"C\".\n",
        "     - Якщо оцінка знаходиться в межах від 60 до 69, виведіть \"D\".\n",
        "     - В іншому випадку виведіть \"F\".\n",
        "     \n"
      ],
      "metadata": {
        "id": "ANFbi11m-4v_"
      }
    },
    {
      "cell_type": "code",
      "source": [
        "score = 75"
      ],
      "metadata": {
        "id": "2w0dAfBw_ew2"
      },
      "execution_count": null,
      "outputs": []
    },
    {
      "cell_type": "code",
      "source": [
        "# 1st solution:\n",
        "\n",
        "if (score >= 90):\n",
        "  print(\"A\")\n",
        "elif (score >= 80):\n",
        "  print(\"B\")\n",
        "elif (score >= 70):\n",
        "  print(\"C\")\n",
        "elif (score >= 60):\n",
        "  print(\"D\")\n",
        "else:\n",
        "  print(\"F\")\n",
        "\n",
        "# 2nd solution:\n",
        "if (score >= 90):\n",
        "  print(\"A\")\n",
        "elif (80 <= score <= 89):\n",
        "  print(\"B\")\n",
        "elif (70<= score <= 79):\n",
        "  print(\"C\")\n",
        "elif (60 <= score <=69):\n",
        "    print(\"D\")\n",
        "else:\n",
        "  print(\"F\")\n",
        "\n",
        "# 3rd solution:\n",
        "if score >= 90:\n",
        "  print(\"A\")\n",
        "elif score in range(80,90):\n",
        "  print(\"B\")\n",
        "elif score in range(70, 80):\n",
        "  print(\"C\")\n",
        "elif score in range(60, 70):\n",
        "  print(\"D\")\n",
        "else:\n",
        "  print(\"F\")"
      ],
      "metadata": {
        "id": "ZdJsRZ0WAQVD",
        "colab": {
          "base_uri": "https://localhost:8080/"
        },
        "outputId": "de0222e5-0491-46f0-aac0-451dbf69d1d1"
      },
      "execution_count": null,
      "outputs": [
        {
          "output_type": "stream",
          "name": "stdout",
          "text": [
            "C\n",
            "C\n",
            "C\n"
          ]
        }
      ]
    },
    {
      "cell_type": "markdown",
      "source": [
        "\n",
        "\n",
        "3. **Перевірка на високосний рік:**\n",
        "   - Завдання:\n",
        "     - Дано заздалегідь визначену змінну року `year`. Перевірте, чи є рік високосним роком. Правила для перевірки наведені нижче.\n",
        "     - Якщо рік ділиться на 4 і не ділиться на 100, або він ділиться на 400, виведіть \"Високосний рік\".\n",
        "     - В іншому випадку виведіть \"Не високосний рік\".\n"
      ],
      "metadata": {
        "id": "ohXlepp7_dns"
      }
    },
    {
      "cell_type": "code",
      "source": [
        "year = 2024  # Приклад року"
      ],
      "metadata": {
        "id": "i4OUe6Kh_sAk"
      },
      "execution_count": null,
      "outputs": []
    },
    {
      "cell_type": "code",
      "source": [
        "# 1st solution by using leap year formula:\n",
        "\n",
        "if year % 4 == 0 and year % 100 != 0 or year % 400 == 0:\n",
        "    print('This is a leap year')\n",
        "else:\n",
        "    print(\"This is not a leap year\")\n",
        "\n",
        "\n",
        "# 2nd solution by using calendar.isleap() function:\n",
        "import calendar\n",
        "\n",
        "if calendar.isleap(year):\n",
        "    print(\"This is a leap year\")\n",
        "else:\n",
        "    print(\"This is not a leap year\")"
      ],
      "metadata": {
        "id": "yTWX7B4JARhH",
        "colab": {
          "base_uri": "https://localhost:8080/"
        },
        "outputId": "06dcd173-db50-444c-9de2-dbeabdb7fa9d"
      },
      "execution_count": null,
      "outputs": [
        {
          "output_type": "stream",
          "name": "stdout",
          "text": [
            "This is a leap year\n",
            "This is a leap year\n"
          ]
        }
      ]
    }
  ]
}