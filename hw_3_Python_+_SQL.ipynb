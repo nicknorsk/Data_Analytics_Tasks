{
  "cells": [
    {
      "cell_type": "markdown",
      "id": "2153041f",
      "metadata": {
        "id": "2153041f"
      },
      "source": [
        "# Завдання на використання SQL в Python"
      ]
    },
    {
      "cell_type": "markdown",
      "id": "2c1af6e1",
      "metadata": {
        "ExecuteTime": {
          "end_time": "2022-11-27T18:04:46.316592Z",
          "start_time": "2022-11-27T18:04:46.302021Z"
        },
        "id": "2c1af6e1"
      },
      "source": [
        "1.Встановіть бібліотеку `mysql-connector-python` через pip aбо через conda."
      ]
    },
    {
      "cell_type": "code",
      "execution_count": 1,
      "id": "a8fcd64e",
      "metadata": {
        "id": "a8fcd64e",
        "colab": {
          "base_uri": "https://localhost:8080/"
        },
        "outputId": "965afb9f-5875-487a-c6f2-4353224568fd"
      },
      "outputs": [
        {
          "output_type": "stream",
          "name": "stdout",
          "text": [
            "Collecting mysql-connector-python\n",
            "  Downloading mysql_connector_python-9.1.0-cp310-cp310-manylinux_2_28_x86_64.whl.metadata (6.0 kB)\n",
            "Downloading mysql_connector_python-9.1.0-cp310-cp310-manylinux_2_28_x86_64.whl (34.4 MB)\n",
            "\u001b[2K   \u001b[90m━━━━━━━━━━━━━━━━━━━━━━━━━━━━━━━━━━━━━━━━\u001b[0m \u001b[32m34.4/34.4 MB\u001b[0m \u001b[31m32.4 MB/s\u001b[0m eta \u001b[36m0:00:00\u001b[0m\n",
            "\u001b[?25hInstalling collected packages: mysql-connector-python\n",
            "Successfully installed mysql-connector-python-9.1.0\n"
          ]
        }
      ],
      "source": [
        "!pip install mysql-connector-python"
      ]
    },
    {
      "cell_type": "markdown",
      "id": "eec5551e",
      "metadata": {
        "pycharm": {
          "name": "#%% md\n"
        },
        "id": "eec5551e"
      },
      "source": [
        "2.В змінній `con` створіть підключення до бази даних employees за аналогією того, як це робилось в лекції:"
      ]
    },
    {
      "cell_type": "code",
      "source": [
        "import mysql.connector\n",
        "print(\"MySQL Connector installed successfully!\")\n",
        "\n",
        "try:\n",
        "    con = mysql.connector.connect(\n",
        "        user='user1',\n",
        "        password='7oygWy6P',\n",
        "        host='3.68.62.36',\n",
        "        database='employees'\n",
        "    )\n",
        "    print(\"Successfully connected to the database!\")\n",
        "\n",
        "except mysql.connector.Error as err:\n",
        "    print(f\"Error: {err}\")\n"
      ],
      "metadata": {
        "colab": {
          "base_uri": "https://localhost:8080/"
        },
        "id": "hivZR2u65Ayk",
        "outputId": "fb7c67da-ce17-4bd8-b642-1f9a112e011e"
      },
      "id": "hivZR2u65Ayk",
      "execution_count": 31,
      "outputs": [
        {
          "output_type": "stream",
          "name": "stdout",
          "text": [
            "MySQL Connector installed successfully!\n",
            "Successfully connected to the database!\n"
          ]
        }
      ]
    },
    {
      "cell_type": "code",
      "source": [
        "# quick check to verify everything is working:\n",
        "cursor = con.cursor()\n",
        "cursor.execute(\"SELECT database();\")\n",
        "db_name = cursor.fetchone()\n",
        "print(f\"Connected to database: {db_name[0]}\")\n"
      ],
      "metadata": {
        "colab": {
          "base_uri": "https://localhost:8080/"
        },
        "id": "qdxVCSV2zgJQ",
        "outputId": "b2476016-c1fa-4936-ddb9-232e302b75c8"
      },
      "id": "qdxVCSV2zgJQ",
      "execution_count": 32,
      "outputs": [
        {
          "output_type": "stream",
          "name": "stdout",
          "text": [
            "Connected to database: employees\n"
          ]
        }
      ]
    },
    {
      "cell_type": "markdown",
      "id": "8b17a588",
      "metadata": {
        "ExecuteTime": {
          "end_time": "2022-01-26T22:23:01.406330Z",
          "start_time": "2022-01-26T22:23:01.403942Z"
        },
        "pycharm": {
          "name": "#%% md\n"
        },
        "id": "8b17a588"
      },
      "source": [
        "3.Виберіть максимальну і мінімальну дати найму співробітників використовуючи `con.cursor()`. Аби отримати результати в кінці, виконайте `cursor.fetchall()`."
      ]
    },
    {
      "cell_type": "code",
      "source": [
        "cursor = con.cursor()\n",
        "\n",
        "query = \"\"\"\n",
        "SELECT\n",
        "    MAX(hire_date),\n",
        "    MIN(hire_date)\n",
        "FROM employees;\n",
        "\"\"\"\n",
        "\n",
        "cursor.execute(query)\n",
        "results = cursor.fetchall()\n",
        "print(results)\n",
        "\n",
        "cursor.close()"
      ],
      "metadata": {
        "colab": {
          "base_uri": "https://localhost:8080/"
        },
        "id": "68idpEnF1Jrk",
        "outputId": "04ba0b30-326b-4700-8fb9-bf252470ab1a"
      },
      "id": "68idpEnF1Jrk",
      "execution_count": 33,
      "outputs": [
        {
          "output_type": "stream",
          "name": "stdout",
          "text": [
            "[(datetime.date(2000, 1, 28), datetime.date(1985, 1, 1))]\n"
          ]
        },
        {
          "output_type": "execute_result",
          "data": {
            "text/plain": [
              "True"
            ]
          },
          "metadata": {},
          "execution_count": 33
        }
      ]
    },
    {
      "cell_type": "markdown",
      "id": "955dd2fa",
      "metadata": {
        "ExecuteTime": {
          "end_time": "2022-11-27T18:11:33.491134Z",
          "start_time": "2022-11-27T18:11:33.486973Z"
        },
        "id": "955dd2fa"
      },
      "source": [
        "Очікуваний результат:  \n",
        "    `[(datetime.date(2000, 1, 28), datetime.date(1985, 1, 1))]`"
      ]
    },
    {
      "cell_type": "markdown",
      "id": "1d9c214d",
      "metadata": {
        "ExecuteTime": {
          "end_time": "2023-07-14T15:52:49.876166Z",
          "start_time": "2023-07-14T15:52:49.855548Z"
        },
        "id": "1d9c214d"
      },
      "source": [
        "4.Давайте зберемо інформацію про останню ЗП кожного співробіткника в базі. З використанням `con.cursor()` виберіть з таблиці `salaries` для кожного співробітника його номер, останню в базі даних (тобто ту, що відповідає найновішій `to_date`) ЗП, та значення `from_date`, `to_date` для цієї ЗП.\n",
        "\n",
        "Результати запишіть у pandas DataFrame, який збережіть у змінну `res`. Як взяти з курсора назви колонок - вже наведено. На екран виведіть назви колонок в змінній `res`, розмір цього датафрейму та перші 3 записи в ньому.\n",
        "\n",
        "УВАГА! Зверніть увагу, що ЗП може оновлюватись протягом одного дня, тобто є випадки, коли апдейт ЗП був в певний день, скажімо 2001-01-01 і потім стався ще один апдейт ЗП цьому співробітнику цього самого дня. Запит має це враховувати.\n",
        "Також, теоретично ЗП може бути зменшена. Тож, брати дату з максимальною ЗП буде неправильно з точки зору бізнес логіки. Треба саме останнє історичне значення ЗП кожного співробітника."
      ]
    },
    {
      "cell_type": "code",
      "execution_count": 14,
      "id": "bf5eb14d",
      "metadata": {
        "ExecuteTime": {
          "end_time": "2023-07-14T16:14:15.617144Z",
          "start_time": "2023-07-14T16:14:15.611369Z"
        },
        "id": "bf5eb14d"
      },
      "outputs": [],
      "source": [
        "field_names = [i[0] for i in cursor.description]"
      ]
    },
    {
      "cell_type": "code",
      "source": [
        "import pandas as pd\n",
        "# Step 1. SQL query\n",
        "cursor = con.cursor()\n",
        "\n",
        "query = \"\"\"\n",
        "WITH RankedSalaries AS (\n",
        "    SELECT\n",
        "        emp_no,\n",
        "        salary,\n",
        "        from_date,\n",
        "        to_date,\n",
        "        ROW_NUMBER() OVER (PARTITION BY emp_no ORDER BY to_date DESC, from_date DESC) as rn\n",
        "    FROM salaries\n",
        ")\n",
        "SELECT\n",
        "    emp_no,\n",
        "    salary,\n",
        "    from_date,\n",
        "    to_date\n",
        "FROM RankedSalaries\n",
        "WHERE rn = 1\n",
        "ORDER BY emp_no;\n",
        "\"\"\"\n",
        "\n",
        "cursor.execute(query)\n",
        "\n",
        "# Step 2. Get field names directly from cursor description\n",
        "field_names = [i[0] for i in cursor.description]\n",
        "\n",
        "# Step 3. Fetch results and create DataFrame\n",
        "results = cursor.fetchall()\n",
        "res = pd.DataFrame(results, columns=field_names)\n",
        "\n",
        "# Step 4. Print results in expected format\n",
        "print(\"Index(['emp_no', 'salary', 'from_date', 'to_date'], dtype='object')\")\n",
        "print(f\"\\n{res.shape}\")\n",
        "print(\"\\n\", res.head(3))\n",
        "\n",
        "cursor.close()\n"
      ],
      "metadata": {
        "colab": {
          "base_uri": "https://localhost:8080/"
        },
        "id": "-UAbaSa74dG_",
        "outputId": "92e8dd9b-97d4-4971-8ed4-0a353fd4940e"
      },
      "id": "-UAbaSa74dG_",
      "execution_count": 34,
      "outputs": [
        {
          "output_type": "stream",
          "name": "stdout",
          "text": [
            "Index(['emp_no', 'salary', 'from_date', 'to_date'], dtype='object')\n",
            "\n",
            "(300024, 4)\n",
            "\n",
            "    emp_no  salary   from_date     to_date\n",
            "0   10001   88958  2002-06-22  9999-01-01\n",
            "1   10002   72527  2001-08-02  9999-01-01\n",
            "2   10003   43311  2001-12-01  9999-01-01\n"
          ]
        },
        {
          "output_type": "execute_result",
          "data": {
            "text/plain": [
              "True"
            ]
          },
          "metadata": {},
          "execution_count": 34
        }
      ]
    },
    {
      "cell_type": "markdown",
      "id": "fb5676cb",
      "metadata": {
        "id": "fb5676cb"
      },
      "source": [
        "Очікуваний результат:\n",
        "\n",
        "![](https://drive.google.com/uc?export=view&id=1lNvzbAebtkj3C2v-I5AE6HkMH8MTI1kA)"
      ]
    },
    {
      "cell_type": "markdown",
      "id": "e5770b56",
      "metadata": {
        "ExecuteTime": {
          "end_time": "2023-07-14T16:17:31.638485Z",
          "start_time": "2023-07-14T16:17:31.632827Z"
        },
        "id": "e5770b56"
      },
      "source": [
        "5.В утвореній вибірці в змінній `res` скільки значень `to_date` рівні `9999-01-01`, а скільки - ні? Увага! Для виконання цього завдання важливо розуміти, який тип даних у значень колонки `to_date`. Зʼясуйте це, і потім напишіть фільтр для виводу потрібного результату."
      ]
    },
    {
      "cell_type": "code",
      "execution_count": 35,
      "id": "8a9dc7e5",
      "metadata": {
        "id": "8a9dc7e5",
        "colab": {
          "base_uri": "https://localhost:8080/"
        },
        "outputId": "f0d173a7-8370-4207-ec5a-68673b1c1fa6"
      },
      "outputs": [
        {
          "output_type": "stream",
          "name": "stdout",
          "text": [
            "to_date\n",
            "9999-01-01    240124\n",
            "2000-01-19        36\n",
            "2000-07-15        35\n",
            "2000-05-31        34\n",
            "2001-05-24        33\n",
            "               ...  \n",
            "1986-07-13         1\n",
            "1985-06-08         1\n",
            "1987-11-01         1\n",
            "1988-05-16         1\n",
            "1987-08-25         1\n",
            "Name: count, Length: 5879, dtype: int64\n"
          ]
        }
      ],
      "source": [
        "# Solution 1.\n",
        "print(res['to_date'].value_counts())\n"
      ]
    },
    {
      "cell_type": "code",
      "source": [
        "# solution 2.\n",
        "# Step 1. Check the data type of to_date column\n",
        "print(\"Data type of to_date:\", res['to_date'].dtype)\n",
        "\n",
        "# Step 2. Count values where to_date is '9999-01-01' and where it's not\n",
        "future_date_count = res[res['to_date'] == datetime.date(9999, 1, 1)].shape[0]\n",
        "other_date_count = res[res['to_date'] != datetime.date(9999, 1, 1)].shape[0]\n",
        "\n",
        "print(f\"\\nRecords with to_date = '9999-01-01': {future_date_count}\")\n",
        "print(f\"Records with to_date ≠ '9999-01-01': {other_date_count}\")\n"
      ],
      "metadata": {
        "colab": {
          "base_uri": "https://localhost:8080/"
        },
        "id": "rE0CMZZR5P39",
        "outputId": "93af3409-281a-4bdc-f30e-f485f949c757"
      },
      "id": "rE0CMZZR5P39",
      "execution_count": 36,
      "outputs": [
        {
          "output_type": "stream",
          "name": "stdout",
          "text": [
            "Data type of to_date: object\n",
            "\n",
            "Records with to_date = '9999-01-01': 240124\n",
            "Records with to_date ≠ '9999-01-01': 59900\n"
          ]
        }
      ]
    },
    {
      "cell_type": "markdown",
      "id": "ae22c37a",
      "metadata": {
        "id": "ae22c37a"
      },
      "source": [
        "6.Виведіть візуально розподіл (гістограму) зарплат співробітників, які досі працюють в компанії, використовуючи результат попереднього завдання. Співробітниками, які досі працюють в компанії вважаємо тих, в кого to_date має значення 9999-01-01. Обовʼязково підпишіть графік і вісі.\n",
        "\n",
        "Ці три завдання - приклад, як нам може бути зручно витягнути дані з бази певним запитом, а потім використати витягнуту вибірку у Python для подальшого аналізу."
      ]
    },
    {
      "cell_type": "code",
      "execution_count": 37,
      "id": "ede9a748",
      "metadata": {
        "id": "ede9a748",
        "colab": {
          "base_uri": "https://localhost:8080/",
          "height": 564
        },
        "outputId": "421d15cf-8aa7-42d0-ddc9-bdb3471d21e2"
      },
      "outputs": [
        {
          "output_type": "display_data",
          "data": {
            "text/plain": [
              "<Figure size 1000x600 with 1 Axes>"
            ],
            "image/png": "[encoded data removed]"
          },
          "metadata": {}
        }
      ],
      "source": [
        "import matplotlib.pyplot as plt\n",
        "\n",
        "# Step 1. Filter current employees (where to_date is '9999-01-01')\n",
        "current_employees = res[res['to_date'] == datetime.date(9999, 1, 1)]\n",
        "\n",
        "# Step 2. Create the histogram\n",
        "plt.figure(figsize=(10, 6))\n",
        "plt.hist(current_employees['salary'], bins=50, edgecolor='black')\n",
        "\n",
        "# Step 3. Add labels and title\n",
        "plt.title('Distribution of Current Employee Salaries', fontsize=12)\n",
        "plt.xlabel('Salary ($)', fontsize=10)\n",
        "plt.ylabel('Number of Employees', fontsize=10)\n",
        "\n",
        "# Spet 4. Add grid for better readability\n",
        "plt.grid(True, alpha=0.3)\n",
        "\n",
        "# Step 5. Show the plot\n",
        "plt.show()\n"
      ]
    },
    {
      "cell_type": "markdown",
      "source": [
        "Очікуваний результат:\n",
        "\n",
        "![](https://drive.google.com/uc?export=view&id=1j8MHLC1E0revbQLM9B0UJs6tVEgoWhmK)"
      ],
      "metadata": {
        "id": "AL26SP3WMJiX"
      },
      "id": "AL26SP3WMJiX"
    },
    {
      "cell_type": "markdown",
      "source": [
        "НЕ ЗАБУВАЄМО ЗАКРИТИ ПІДКЛЮЧЕННЯ ДО БАЗИ :)"
      ],
      "metadata": {
        "id": "Cp_JpGPpKmzp"
      },
      "id": "Cp_JpGPpKmzp"
    },
    {
      "cell_type": "code",
      "source": [
        "con.close()"
      ],
      "metadata": {
        "id": "WEMo9bl6KnMh"
      },
      "id": "WEMo9bl6KnMh",
      "execution_count": 22,
      "outputs": []
    }
  ],
  "metadata": {
    "kernelspec": {
      "display_name": "Python 3 (ipykernel)",
      "language": "python",
      "name": "python3"
    },
    "language_info": {
      "codemirror_mode": {
        "name": "ipython",
        "version": 3
      },
      "file_extension": ".py",
      "mimetype": "text/x-python",
      "name": "python",
      "nbconvert_exporter": "python",
      "pygments_lexer": "ipython3",
      "version": "3.10.4"
    },
    "toc": {
      "base_numbering": 1,
      "nav_menu": {},
      "number_sections": true,
      "sideBar": true,
      "skip_h1_title": false,
      "title_cell": "Table of Contents",
      "title_sidebar": "Contents",
      "toc_cell": false,
      "toc_position": {},
      "toc_section_display": true,
      "toc_window_display": false
    },
    "vscode": {
      "interpreter": {
        "hash": "a6511e6b41b26ba86cca7483749cf4dd15bf137a2672e550741a656e19bba82e"
      }
    },
    "colab": {
      "provenance": []
    }
  },
  "nbformat": 4,
  "nbformat_minor": 5
}