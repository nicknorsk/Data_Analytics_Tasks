{
  "nbformat": 4,
  "nbformat_minor": 0,
  "metadata": {
    "colab": {
      "provenance": []
    },
    "kernelspec": {
      "name": "python3",
      "display_name": "Python 3"
    },
    "language_info": {
      "name": "python"
    }
  },
  "cells": [
    {
      "cell_type": "markdown",
      "source": [
        "#Домашнє завдання до тем apply(), groupby(), pivot_table()"
      ],
      "metadata": {
        "id": "LwNpAFw_eTF3"
      }
    },
    {
      "cell_type": "markdown",
      "source": [
        "В цьому домашньому завданні продовжуємо працювати з набором даних `supermarket_sales.csv`."
      ],
      "metadata": {
        "id": "vP2PEJyq8Yrj"
      }
    },
    {
      "cell_type": "markdown",
      "source": [
        "0. Імпортуйте бібліотеку pandas та зчитайте дані у змінну `df` типу `pandas.DataFrame`."
      ],
      "metadata": {
        "id": "dh9lfpDb8gBL"
      }
    },
    {
      "cell_type": "code",
      "source": [
        "from google.colab import drive\n",
        "drive.mount('/drive')"
      ],
      "metadata": {
        "id": "xBI9gJMK8qnl",
        "colab": {
          "base_uri": "https://localhost:8080/"
        },
        "outputId": "5a4f191d-e9ea-41d9-d713-e1ebbf798a8d"
      },
      "execution_count": 1,
      "outputs": [
        {
          "output_type": "stream",
          "name": "stdout",
          "text": [
            "Mounted at /drive\n"
          ]
        }
      ]
    },
    {
      "cell_type": "markdown",
      "metadata": {
        "id": "28638363"
      },
      "source": [
        "1. Дослідимо, який філіал супермаркету ('Branch') є найприбутковішим. Для цього знайдіть сумарний прибуток за кожним філіалом і виявіть, який філіал має найвищий."
      ]
    },
    {
      "cell_type": "code",
      "execution_count": 2,
      "metadata": {
        "ExecuteTime": {
          "end_time": "2022-11-01T17:27:42.023877Z",
          "start_time": "2022-11-01T17:27:42.020277Z"
        },
        "id": "916d731d"
      },
      "outputs": [],
      "source": [
        "import pandas as pd\n",
        "df = pd.read_csv('/drive/MyDrive/Colab_Notebooks/Data_Analyst_Course_HP/Module_3/Data_M3/supermarket_sales_enriched.csv')"
      ]
    },
    {
      "cell_type": "markdown",
      "source": [
        "2. В якому місті знайходиться філіал з найвищим прибутком? Може в тому місці нам розмітисти ще один магазин.  \n",
        "Знайдіть відповідь за допомогою функціоналу Pandas."
      ],
      "metadata": {
        "id": "2qL_OddUCZKK"
      }
    },
    {
      "cell_type": "code",
      "source": [
        "# Step 1. Calculate total profit (gross income) by City and Branch\n",
        "profit_by_branch = df.groupby(['City', 'Branch'])['gross income'].sum().round(2)\n",
        "print(\"Total Profit by City and Branch:\")\n",
        "print(profit_by_branch)\n",
        "\n",
        "# Step 2. Find the branch with the highest profit\n",
        "highest_profit_branch = profit_by_branch.idxmax()\n",
        "highest_profit_amount = profit_by_branch.max()\n",
        "\n",
        "print(\"\\nBranch with Highest Profit:\")\n",
        "print(f\"City: {highest_profit_branch[0]}\")\n",
        "print(f\"Branch: {highest_profit_branch[1]}\")\n",
        "print(f\"Total Profit: {highest_profit_amount}\")\n",
        "\n",
        "# Step 3. Calculate total profit by City\n",
        "profit_by_city = df.groupby('City')['gross income'].agg([\n",
        "    ('Total Profit', 'sum'),\n",
        "    ('Average Profit per Sale', 'mean')\n",
        "]).round(2)\n",
        "\n",
        "print(\"\\nProfit Analysis by City:\")\n",
        "print(profit_by_city)"
      ],
      "metadata": {
        "id": "bBJUc1dWCwdi",
        "colab": {
          "base_uri": "https://localhost:8080/"
        },
        "outputId": "8686e754-9683-45a8-e699-0cab3b26d1d4"
      },
      "execution_count": 3,
      "outputs": [
        {
          "output_type": "stream",
          "name": "stdout",
          "text": [
            "Total Profit by City and Branch:\n",
            "City       Branch\n",
            "Mandalay   B         5057.03\n",
            "Naypyitaw  C         5265.18\n",
            "Yangon     A         5057.16\n",
            "Name: gross income, dtype: float64\n",
            "\n",
            "Branch with Highest Profit:\n",
            "City: Naypyitaw\n",
            "Branch: C\n",
            "Total Profit: 5265.18\n",
            "\n",
            "Profit Analysis by City:\n",
            "           Total Profit  Average Profit per Sale\n",
            "City                                            \n",
            "Mandalay        5057.03                    15.23\n",
            "Naypyitaw       5265.18                    16.05\n",
            "Yangon          5057.16                    14.87\n"
          ]
        }
      ]
    },
    {
      "cell_type": "markdown",
      "metadata": {
        "id": "6dec795f"
      },
      "source": [
        "3.1. Створіть зводну таблицю, яка покаже, скільки покупок (інвойсів) було зроблено в кожній з філій (`Branch`) за різними категоріями товарів. Запишіть таблицю в змінну `invoices_by_category` і виведіть змінну на екран.\n",
        "Ця таблиця допоможе проаналізувати, в якій філії купують найбільше товарів кожної з категорій."
      ]
    },
    {
      "cell_type": "code",
      "source": [
        "# Step 1. Create pivot table\n",
        "invoices_by_category = pd.pivot_table(df,\n",
        "                                    values='Invoice ID',  # counting invoices\n",
        "                                    index='Branch',       # rows\n",
        "                                    columns='Product line', # columns\n",
        "                                    aggfunc='count')      # counting function\n",
        "\n",
        "# Step 2. Display the pivot table\n",
        "print(\"Number of Purchases by Branch and Product Category:\")\n",
        "print(invoices_by_category)"
      ],
      "metadata": {
        "id": "N7TfUBf4ZrkX",
        "colab": {
          "base_uri": "https://localhost:8080/"
        },
        "outputId": "57556d29-1022-4f72-dd62-afb14851f60f"
      },
      "execution_count": 4,
      "outputs": [
        {
          "output_type": "stream",
          "name": "stdout",
          "text": [
            "Number of Purchases by Branch and Product Category:\n",
            "Product line  Electronic accessories  Fashion accessories  Food and beverages  \\\n",
            "Branch                                                                          \n",
            "A                                 60                   51                  58   \n",
            "B                                 55                   62                  50   \n",
            "C                                 55                   65                  66   \n",
            "\n",
            "Product line  Health and beauty  Home and lifestyle  Sports and travel  \n",
            "Branch                                                                  \n",
            "A                            47                  65                 59  \n",
            "B                            53                  50                 62  \n",
            "C                            52                  45                 45  \n"
          ]
        }
      ]
    },
    {
      "cell_type": "markdown",
      "metadata": {
        "ExecuteTime": {
          "end_time": "2022-11-01T16:50:46.961201Z",
          "start_time": "2022-11-01T16:50:46.955894Z"
        },
        "id": "f5bbfa34"
      },
      "source": [
        "Очікуваний результат:"
      ]
    },
    {
      "cell_type": "markdown",
      "metadata": {
        "id": "34b9bcdc"
      },
      "source": [
        "![](https://drive.google.com/uc?export=view&id=1rueAdko6S3UxIHGtojetTxlES-EyM6Yb)"
      ]
    },
    {
      "cell_type": "markdown",
      "source": [
        "3.2. Викристовуючи змінну `invoices_by_category` дайте відповідь програмно (тобто значення треба не просто знайти очима, а вивести за допомогою коду), в якому філіалі магазину (`Branch`) найбільше інвойсів із покупкою товарів категорії \"Електронні аксесуари\" (`Electronic accessories`)?\n"
      ],
      "metadata": {
        "id": "woygDEA0OSwJ"
      }
    },
    {
      "cell_type": "code",
      "source": [
        "# Find the branch with maximum Electronic accessories purchases\n",
        "max_electronics_branch = invoices_by_category['Electronic accessories'].idxmax()\n",
        "max_electronics_count = invoices_by_category['Electronic accessories'].max()\n",
        "\n",
        "print(f\"Branch with most Electronic accessories purchases: {max_electronics_branch}\")\n",
        "print(f\"Number of purchases: {max_electronics_count}\")"
      ],
      "metadata": {
        "id": "B5x8kTE-Qcq8",
        "colab": {
          "base_uri": "https://localhost:8080/"
        },
        "outputId": "9c786982-06be-4501-e8e8-5a182b98163d"
      },
      "execution_count": 5,
      "outputs": [
        {
          "output_type": "stream",
          "name": "stdout",
          "text": [
            "Branch with most Electronic accessories purchases: A\n",
            "Number of purchases: 60\n"
          ]
        }
      ]
    },
    {
      "cell_type": "markdown",
      "metadata": {
        "ExecuteTime": {
          "end_time": "2022-11-01T17:56:02.981755Z",
          "start_time": "2022-11-01T17:56:02.977086Z"
        },
        "id": "d005a2b8"
      },
      "source": [
        "4-6. **Творче завдання на розвиток аналітичного мислення**\n",
        "\n",
        "Крок 1. Сформулюйте ТРИ питання (гіпотези) до наявних даних, які допомогли б вам зрозуміти, які користувачі що, де та коли найбільше/найменше купують, аби дати на основі цих гіпотез рекомендації бізнесу. Звісно питання мають бути не тими, на які ми вже відповіли в завданнях модулю.\n",
        "\n",
        "Крок 2. Знайдіть відповіді на свої питання з допомогою функціоналу pandas.\n",
        "\n",
        "Крок 3. Напишіть, як відповідь на це питання може бути використана для прийняття бізнес рішень.   \n",
        "   \n",
        " Питання можуть бути будь-якої складності, але їх має бути 3. Кожне питання оцінюється як 1 завдання. Без виконання цього завдання ДЗ не приймається. Якщо є питання щодо виконання - пишіть у чат 🙌\n"
      ]
    },
    {
      "cell_type": "markdown",
      "source": [],
      "metadata": {
        "id": "WD3rIjmyPDpZ"
      }
    },
    {
      "cell_type": "markdown",
      "source": [
        "**Hypothesis 1: \"Payment Method Preferences Vary by Purchase Amount\"**\n",
        "\n",
        "*This could help optimize payment systems and promotional strategies.*"
      ],
      "metadata": {
        "id": "OHq1_PdqPJHV"
      }
    },
    {
      "cell_type": "code",
      "source": [
        "# Analyze average purchase amounts by payment method\n",
        "payment_analysis = df.groupby('Payment')['Total'].agg([\n",
        "    ('Average Purchase', 'mean'),\n",
        "    ('Count', 'count'),\n",
        "    ('Total Revenue', 'sum')\n",
        "]).round(2)\n",
        "\n",
        "print(\"Payment Method Analysis:\")\n",
        "print(payment_analysis)\n",
        "\n",
        "# Find the preferred payment method for high-value purchases\n",
        "high_value_threshold = df['Total'].quantile(0.75)\n",
        "high_value_payments = df[df['Total'] > high_value_threshold]['Payment'].value_counts(normalize=True) * 100\n",
        "\n",
        "print(\"\\nPayment Methods for High-Value Purchases (top 25%):\")\n",
        "print(high_value_payments.round(2), \"%\")"
      ],
      "metadata": {
        "id": "cM3cApWSZuRX",
        "colab": {
          "base_uri": "https://localhost:8080/"
        },
        "outputId": "1f1d899f-5185-4e4d-fad6-c76fb4310519"
      },
      "execution_count": 6,
      "outputs": [
        {
          "output_type": "stream",
          "name": "stdout",
          "text": [
            "Payment Method Analysis:\n",
            "             Average Purchase  Count  Total Revenue\n",
            "Payment                                            \n",
            "Cash                   326.18    344      112206.57\n",
            "Credit card            324.01    311      100767.07\n",
            "Ewallet                318.82    345      109993.11\n",
            "\n",
            "Payment Methods for High-Value Purchases (top 25%):\n",
            "Payment\n",
            "Cash           34.8\n",
            "Ewallet        33.6\n",
            "Credit card    31.6\n",
            "Name: proportion, dtype: float64 %\n"
          ]
        }
      ]
    },
    {
      "cell_type": "markdown",
      "source": [
        "**Business Recommendations:**\n",
        "\n",
        "***1. If credit card shows higher average purchases:***\n",
        "\n",
        "Promote credit card usage through cashback/rewards\n",
        "Negotiate better rates with credit card providers\n",
        "Install more card terminals during peak hours\n",
        "\n",
        "***2. If cash shows higher frequency:***\n",
        "\n",
        "Optimize cash handling procedures\n",
        "Introduce digital payment incentives\n",
        "\n",
        "***3. Target promotional campaigns based on payment preferences***"
      ],
      "metadata": {
        "id": "-h0g6LDdPWY5"
      }
    },
    {
      "cell_type": "markdown",
      "source": [
        "**Hypothesis 2: \"Customer Type (Member vs Normal) Shows Different Shopping Patterns Throughout the Day\"**\n",
        "\n",
        "Understanding when different customer types shop can help with staffing and promotional timing."
      ],
      "metadata": {
        "id": "t2txpgmvQaH6"
      }
    },
    {
      "cell_type": "code",
      "source": [
        "# Analyze customer types by hour\n",
        "customer_hour_analysis = pd.pivot_table(df,\n",
        "                                      values='Invoice ID',\n",
        "                                      index='Hour',\n",
        "                                      columns='Customer type',\n",
        "                                      aggfunc='count',\n",
        "                                      fill_value=0)\n",
        "\n",
        "# Calculate percentages for each hour\n",
        "customer_hour_percentages = customer_hour_analysis.div(customer_hour_analysis.sum(axis=1), axis=0) * 100\n",
        "\n",
        "print(\"Customer Type Distribution by Hour:\")\n",
        "print(customer_hour_percentages.round(2))\n",
        "\n",
        "# Find peak hours for each customer type\n",
        "peak_hours = customer_hour_analysis.idxmax()\n",
        "print(\"\\nPeak Shopping Hours:\")\n",
        "print(peak_hours)\n"
      ],
      "metadata": {
        "colab": {
          "base_uri": "https://localhost:8080/"
        },
        "id": "rfaeDzerPm4j",
        "outputId": "36dc7748-d520-4202-bbb6-9e95c1d847fa"
      },
      "execution_count": 9,
      "outputs": [
        {
          "output_type": "stream",
          "name": "stdout",
          "text": [
            "Customer Type Distribution by Hour:\n",
            "Customer type  Member  Normal\n",
            "Hour                         \n",
            "10              41.58   58.42\n",
            "11              51.11   48.89\n",
            "12              51.69   48.31\n",
            "13              47.57   52.43\n",
            "14              57.83   42.17\n",
            "15              54.90   45.10\n",
            "16              48.05   51.95\n",
            "17              48.65   51.35\n",
            "18              48.39   51.61\n",
            "19              53.98   46.02\n",
            "20              46.67   53.33\n",
            "\n",
            "Peak Shopping Hours:\n",
            "Customer type\n",
            "Member    19\n",
            "Normal    10\n",
            "dtype: int64\n"
          ]
        }
      ]
    },
    {
      "cell_type": "markdown",
      "source": [
        "**Business Recommendations:**\n",
        "\n",
        "***1. Time-based membership promotions:***\n",
        "\n",
        "Offer member-exclusive deals during peak member hours\n",
        "Create special promotions to attract normal customers during member-heavy hours\n",
        "\n",
        "***2. Staffing optimization:***\n",
        "\n",
        "Adjust staff levels based on customer type patterns\n",
        "Train staff for different customer type needs during specific hours\n",
        "\n",
        "***3. Marketing strategies:***\n",
        "\n",
        "Target membership drives during hours with more normal customers\n",
        "Schedule member events during preferred member shopping hours"
      ],
      "metadata": {
        "id": "7_nP-zEJRQh4"
      }
    },
    {
      "cell_type": "markdown",
      "source": [
        "**Hypothesis 3: \"Product Categories Have Gender-Specific Purchase Patterns\"**\n",
        "\n",
        "This could inform inventory management and marketing strategies."
      ],
      "metadata": {
        "id": "uxM-3YAvRrDb"
      }
    },
    {
      "cell_type": "code",
      "source": [
        "# Create gender-product category analysis\n",
        "gender_product_analysis = pd.pivot_table(df,\n",
        "                                       values='Quantity',\n",
        "                                       index='Product line',\n",
        "                                       columns='Gender',\n",
        "                                       aggfunc=['mean', 'count'],\n",
        "                                       margins=True)\n",
        "\n",
        "print(\"Gender-Product Category Analysis:\")\n",
        "print(gender_product_analysis.round(2))\n",
        "\n",
        "# Calculate statistical significance\n",
        "from scipy import stats\n",
        "\n",
        "def analyze_gender_preference(df, product_category):\n",
        "    male_purchases = df[(df['Gender'] == 'Male') &\n",
        "                       (df['Product line'] == product_category)]['Quantity']\n",
        "    female_purchases = df[(df['Gender'] == 'Female') &\n",
        "                         (df['Product line'] == product_category)]['Quantity']\n",
        "    return stats.ttest_ind(male_purchases, female_purchases)\n",
        "\n",
        "# Analyze each product category\n",
        "for category in df['Product line'].unique():\n",
        "    t_stat, p_value = analyze_gender_preference(df, category)\n",
        "    print(f\"\\n{category}:\")\n",
        "    print(f\"p-value: {p_value:.4f}\")\n"
      ],
      "metadata": {
        "colab": {
          "base_uri": "https://localhost:8080/"
        },
        "id": "WrUWrMfWQgPD",
        "outputId": "e47abc8a-96a0-4afd-a479-aea75b952c17"
      },
      "execution_count": 10,
      "outputs": [
        {
          "output_type": "stream",
          "name": "stdout",
          "text": [
            "Gender-Product Category Analysis:\n",
            "                         mean              count           \n",
            "Gender                 Female  Male   All Female Male   All\n",
            "Product line                                               \n",
            "Electronic accessories   5.81  5.62  5.71     84   86   170\n",
            "Fashion accessories      5.52  4.54  5.07     96   82   178\n",
            "Food and beverages       5.71  5.21  5.47     90   84   174\n",
            "Health and beauty        5.36  5.81  5.62     64   88   152\n",
            "Home and lifestyle       6.30  5.10  5.69     79   81   160\n",
            "Sports and travel        5.64  5.44  5.54     88   78   166\n",
            "All                      5.73  5.29  5.51    501  499  1000\n",
            "\n",
            "Health and beauty:\n",
            "p-value: 0.3404\n",
            "\n",
            "Electronic accessories:\n",
            "p-value: 0.6664\n",
            "\n",
            "Home and lifestyle:\n",
            "p-value: 0.0065\n",
            "\n",
            "Sports and travel:\n",
            "p-value: 0.6636\n",
            "\n",
            "Food and beverages:\n",
            "p-value: 0.2554\n",
            "\n",
            "Fashion accessories:\n",
            "p-value: 0.0345\n"
          ]
        }
      ]
    },
    {
      "cell_type": "markdown",
      "source": [
        "**Business Recommendations:**\n",
        "\n",
        "***1. Inventory Management:***\n",
        "\n",
        "Adjust stock levels based on gender preferences\n",
        "Create gender-specific promotional displays\n",
        "\n",
        "***2. Marketing Strategies:***\n",
        "\n",
        "Develop targeted marketing campaigns based on significant gender preferences\n",
        "Design store layouts to optimize product placement\n",
        "\n",
        "***3. Product Development:***\n",
        "\n",
        "Suggest new product lines based on gender preferences\n",
        "Create bundled offerings that appeal to specific gender preferences"
      ],
      "metadata": {
        "id": "Qg2f1EfXR0dX"
      }
    },
    {
      "cell_type": "markdown",
      "source": [
        "***Overall Business Impact:***\n",
        "These analyses provide actionable insights for:\n",
        "\n",
        "1. Store Layout Optimization:\n",
        "\n",
        "*   Product placement based on gender preferences\n",
        "*   Payment terminal placement based on usage patterns\n",
        "\n",
        "2. Marketing Strategy:\n",
        "\n",
        "*   Targeted promotions by time of day\n",
        "*   Gender-specific marketing campaigns\n",
        "*   Membership drive timing\n",
        "\n",
        "3. Operational Efficiency:\n",
        "\n",
        "*   Staffing optimization\n",
        "*   Inventory management\n",
        "*  Payment system infrastructure\n",
        "\n",
        "4. Customer Experience:\n",
        "\n",
        "*   Better product availability\n",
        "*   Reduced checkout times\n",
        "*   More relevant promotions"
      ],
      "metadata": {
        "id": "pHguGkrFSaXM"
      }
    }
  ]
}